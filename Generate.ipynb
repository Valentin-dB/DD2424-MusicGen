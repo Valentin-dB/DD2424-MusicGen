{
 "cells": [
  {
   "cell_type": "code",
   "execution_count": 172,
   "metadata": {},
   "outputs": [],
   "source": [
    "import mido\n",
    "import numpy as np\n",
    "import matplotlib.pyplot as plt\n",
    "import Parser\n",
    "import PreProcessor as pp\n"
   ]
  },
  {
   "cell_type": "code",
   "execution_count": 173,
   "metadata": {},
   "outputs": [
    {
     "name": "stdout",
     "output_type": "stream",
     "text": [
      "adl-piano-midi\\adl-piano-midi\\Classical\\Classical\\Alexander Borodin\\Nocturne.mid\n",
      "adl-piano-midi\\adl-piano-midi\\Classical\\Classical\\Antonio Salieri\\Invention.mid\n",
      "adl-piano-midi\\adl-piano-midi\\Classical\\Classical\\Bela Bartok\\Andante.mid\n",
      "adl-piano-midi\\adl-piano-midi\\Classical\\Classical\\Bela Bartok\\Romanian Folk Dance.mid\n",
      "adl-piano-midi\\adl-piano-midi\\Classical\\Classical\\Claude Debussy\\Clair De Lune.mid\n",
      "adl-piano-midi\\adl-piano-midi\\Classical\\Classical\\Franz Schubert\\Impromptu in C-Moll.mid\n",
      "adl-piano-midi\\adl-piano-midi\\Classical\\Classical\\Franz Schubert\\Impromptu in Ges-dur.mid\n",
      "adl-piano-midi\\adl-piano-midi\\Classical\\Classical\\Franz Schubert\\Trois Marches militaires 3.mid\n",
      "adl-piano-midi\\adl-piano-midi\\Classical\\Classical\\Frederic Chopin\\Prelude Op 28 No7.mid\n",
      "adl-piano-midi\\adl-piano-midi\\Classical\\Classical\\Giacomo Puccini\\O Mio Babibino Caro.mid\n",
      "adl-piano-midi\\adl-piano-midi\\Classical\\Classical\\Jean-Baptiste Lully\\Minuet.mid\n",
      "adl-piano-midi\\adl-piano-midi\\Classical\\Classical\\Johann Sebastian Bach\\Aria, BWV 515.mid\n",
      "adl-piano-midi\\adl-piano-midi\\Classical\\Classical\\Johann Sebastian Bach\\Aus meines Herzens Grunde (Chorale 1).mid\n",
      "adl-piano-midi\\adl-piano-midi\\Classical\\Classical\\Johann Sebastian Bach\\English Suite 3 Gavotte.mid\n",
      "adl-piano-midi\\adl-piano-midi\\Classical\\Classical\\Johann Sebastian Bach\\Gib dich zufrieden und sei stille.mid\n",
      "adl-piano-midi\\adl-piano-midi\\Classical\\Classical\\Johann Sebastian Bach\\Invention 1, BWV 772.mid\n",
      "adl-piano-midi\\adl-piano-midi\\Classical\\Classical\\Johann Sebastian Bach\\Invention 5.mid\n",
      "adl-piano-midi\\adl-piano-midi\\Classical\\Classical\\Johann Sebastian Bach\\Invention 6.mid\n",
      "adl-piano-midi\\adl-piano-midi\\Classical\\Classical\\Johann Sebastian Bach\\Invention No 8.mid\n",
      "adl-piano-midi\\adl-piano-midi\\Classical\\Classical\\Johann Sebastian Bach\\Sleepers, Wake.mid\n",
      "adl-piano-midi\\adl-piano-midi\\Classical\\Classical\\Ludwig van Beethoven\\Moonlight Sonata 1st movement.mid\n",
      "adl-piano-midi\\adl-piano-midi\\Classical\\Classical\\Ludwig van Beethoven\\Moonlight Sonata 3rd Movement.mid\n",
      "adl-piano-midi\\adl-piano-midi\\Classical\\Classical\\Ludwig van Beethoven\\Sonata for Piano with Horn, Op 17.mid\n",
      "adl-piano-midi\\adl-piano-midi\\Classical\\Classical\\Pyotr Ilyich Tchaikovsky\\July - Song of the Reaper.mid\n",
      "adl-piano-midi\\adl-piano-midi\\Classical\\Classical\\Pyotr Ilyich Tchaikovsky\\March - Song of the Lark.mid\n",
      "adl-piano-midi\\adl-piano-midi\\Classical\\Classical\\Pyotr Ilyich Tchaikovsky\\Nutcracker Minature Overture.mid\n",
      "adl-piano-midi\\adl-piano-midi\\Classical\\Classical\\Richard Wagner\\Bridal March.mid\n",
      "adl-piano-midi\\adl-piano-midi\\Classical\\Classical\\Richard Wagner\\Ride of the Valkyries.mid\n",
      "adl-piano-midi\\adl-piano-midi\\Classical\\Classical\\Robert Schumann\\Curious Story.mid\n",
      "adl-piano-midi\\adl-piano-midi\\Classical\\Classical\\Wolfgang Amadeus Mozart\\Clarinet Concerto Theme.mid\n",
      "adl-piano-midi\\adl-piano-midi\\Classical\\Classical\\Wolfgang Amadeus Mozart\\Minuet from Don Juan.mid\n",
      "adl-piano-midi\\adl-piano-midi\\Classical\\Classical\\Wolfgang Amadeus Mozart\\Theme from C K467.mid\n",
      "adl-piano-midi\\adl-piano-midi\\Classical\\German Baroque\\Johann Krieger\\Minuet.mid\n",
      "adl-piano-midi\\adl-piano-midi\\Classical\\Late Romantic Era\\Charles-Valentin Alkan\\Prélude.mid\n",
      "adl-piano-midi\\adl-piano-midi\\Classical\\Late Romantic Era\\Charles-Valentin Alkan\\Saltarelle.mid\n",
      "adl-piano-midi\\adl-piano-midi\\Classical\\Neo-Classical\\Ludovico Einaudi\\Divenire.mid\n",
      "adl-piano-midi\\adl-piano-midi\\Classical\\Neo-Classical\\Yiruma\\Rivers Flow in You.mid\n",
      "adl-piano-midi\\adl-piano-midi\\Classical\\Operatic Pop\\Yanni\\Hijo de la Luna.mid\n",
      "adl-piano-midi\\adl-piano-midi\\Classical\\Post-Romantic Era\\Vladimir Rebikov\\The Bear.mid\n",
      "Number of channels  : 12 \n",
      "Number of notes     : 105 \n",
      "Number of velocities: 128 \n",
      "Number of time ticks: 1168\n"
     ]
    }
   ],
   "source": [
    "dataset = pp.load_dataset(\"adl-piano-midi\")\n",
    "Songs = pp.files_to_songs(dataset[\"Classical\"])\n",
    "\n",
    "channel_to_ind, ind_to_channel, note_to_ind, ind_to_note, velocity_to_ind, ind_to_velocity, tick_to_ind, ind_to_tick = pp.dicts_from_songs(Songs)\n",
    "\n",
    "n_Channels = len(channel_to_ind)\n",
    "n_Notes = len(note_to_ind)\n",
    "n_Velocities = len(velocity_to_ind)\n",
    "n_Ticks = len(tick_to_ind)\n",
    "\n",
    "print(\"Number of channels  :\",n_Channels,\"\\nNumber of notes     :\",n_Notes,\"\\nNumber of velocities:\",n_Velocities,\"\\nNumber of time ticks:\",n_Ticks)"
   ]
  },
  {
   "cell_type": "code",
   "execution_count": 174,
   "metadata": {},
   "outputs": [
    {
     "name": "stdout",
     "output_type": "stream",
     "text": [
      "(442560, 5, 105)\n"
     ]
    }
   ],
   "source": [
    "seq_length=5\n",
    "n_batch=64\n",
    "\n",
    "AllNotes = np.array([])\n",
    "for song in Songs.values():\n",
    "    AllNotes = np.append(AllNotes,song[:,1])\n",
    "OneHotNotes = pp.one_hot_encode(note_to_ind,AllNotes)\n",
    "X_train, y_train = pp.label_sequences(OneHotNotes,seq_length,n_batch)\n",
    "print(X_train.shape)"
   ]
  },
  {
   "cell_type": "code",
   "execution_count": 175,
   "metadata": {},
   "outputs": [
    {
     "name": "stdout",
     "output_type": "stream",
     "text": [
      "[58. 62. 63. ... 52. 60. 64.]\n"
     ]
    }
   ],
   "source": [
    "print(AllNotes)"
   ]
  },
  {
   "cell_type": "code",
   "execution_count": 47,
   "metadata": {},
   "outputs": [],
   "source": [
    "from keras.models import Sequential\n",
    "from tensorflow.keras.layers import SimpleRNN, Dense, Softmax\n",
    "from keras import optimizers\n",
    "import tensorflow as tf"
   ]
  },
  {
   "cell_type": "code",
   "execution_count": 48,
   "metadata": {},
   "outputs": [
    {
     "name": "stdout",
     "output_type": "stream",
     "text": [
      "105\n"
     ]
    }
   ],
   "source": [
    "dim=len(note_to_ind)\n",
    "print(dim)"
   ]
  },
  {
   "cell_type": "code",
   "execution_count": 49,
   "metadata": {},
   "outputs": [],
   "source": [
    "def create_weight(notes):\n",
    "    # Calculer les poids en fonction de la fréquence des notes\n",
    "    note_counts = {}\n",
    "    for element in notes:\n",
    "        if element in note_counts:\n",
    "            note_counts[element] += 1\n",
    "        else:\n",
    "            note_counts[element] = 1\n",
    "    \n",
    "    # Calculer les poids pour chaque note\n",
    "    total_notes = sum(note_counts.values())\n",
    "    weights = {note: count/total_notes for note, count in note_counts.items()}\n",
    "    \n",
    "    return weights"
   ]
  },
  {
   "cell_type": "code",
   "execution_count": 89,
   "metadata": {},
   "outputs": [],
   "source": [
    "def create_model(dim,weights,seq_length,training_one_hot,label_one_hot):\n",
    "    model = Sequential()\n",
    "    model.add(SimpleRNN(units=dim, input_shape=(seq_length,dim), return_sequences=True))\n",
    "    model.add(Dense(units=dim, activation='softmax'))\n",
    "    model.summary()\n",
    "    # Compiler le modèle\n",
    "    opt = optimizers.Adagrad(learning_rate=0.01)\n",
    "    model.compile(optimizer=opt, loss='categorical_crossentropy', metrics=['accuracy'])\n",
    "    # Train the model\n",
    "    model.fit(training_one_hot, label_one_hot, epochs=20, batch_size=64)\n",
    "    return model"
   ]
  },
  {
   "cell_type": "code",
   "execution_count": 112,
   "metadata": {},
   "outputs": [
    {
     "data": {
      "text/plain": [
       "[<KerasVariable shape=(105, 105), dtype=float32, path=sequential_11/simple_rnn_9/simple_rnn_cell/kernel>,\n",
       " <KerasVariable shape=(105, 105), dtype=float32, path=sequential_11/simple_rnn_9/simple_rnn_cell/recurrent_kernel>,\n",
       " <KerasVariable shape=(105,), dtype=float32, path=sequential_11/simple_rnn_9/simple_rnn_cell/bias>,\n",
       " <KerasVariable shape=(105, 105), dtype=float32, path=sequential_11/dense_8/kernel>,\n",
       " <KerasVariable shape=(105,), dtype=float32, path=sequential_11/dense_8/bias>]"
      ]
     },
     "execution_count": 112,
     "metadata": {},
     "output_type": "execute_result"
    }
   ],
   "source": [
    "model.weights"
   ]
  },
  {
   "cell_type": "code",
   "execution_count": 118,
   "metadata": {},
   "outputs": [
    {
     "name": "stdout",
     "output_type": "stream",
     "text": [
      "(442560, 5, 105)\n"
     ]
    }
   ],
   "source": [
    "print(X_train.shape)"
   ]
  },
  {
   "cell_type": "code",
   "execution_count": 162,
   "metadata": {},
   "outputs": [],
   "source": [
    "\n",
    "def next_sequence(notes, model):\n",
    "  \n",
    "    input=notes #set de 5 notes \n",
    "    notes = np.expand_dims(notes, axis=0)\n",
    "    prediction=model.predict(notes)\n",
    "    #note=tf.squeeze(prediction,axis=-1)\n",
    "\n",
    "\n",
    "    return prediction"
   ]
  },
  {
   "cell_type": "code",
   "execution_count": 149,
   "metadata": {},
   "outputs": [
    {
     "name": "stdout",
     "output_type": "stream",
     "text": [
      "(5, 105)\n"
     ]
    }
   ],
   "source": [
    "print(X_train[0,:,:].shape)"
   ]
  },
  {
   "cell_type": "code",
   "execution_count": 100,
   "metadata": {},
   "outputs": [
    {
     "name": "stdout",
     "output_type": "stream",
     "text": [
      "{58.0: 0.02557318227727403, 62.0: 0.03794899372532893, 63.0: 0.026653230088595554, 67.0: 0.03840451179805365, 56.0: 0.023936842057694436, 60.0: 0.038751573186796305, 79.0: 0.018958228360067154, 84.0: 0.009170916436384506, 86.0: 0.006549879906817632, 91.0: 0.0026196808210170977, 96.0: 0.0010316942063795125, 74.0: 0.02885941980193098, 77.0: 0.019553836316268728, 82.0: 0.008943157400022144, 87.0: 0.004481068659859503, 72.0: 0.031385556733013534, 89.0: 0.003576359154309007, 59.0: 0.027092479658722968, 65.0: 0.03265856706125317, 75.0: 0.01915345039123489, 41.0: 0.006689065984594632, 46.0: 0.009760649655537053, 48.0: 0.015222347499734508, 55.0: 0.031884457479331094, 70.0: 0.023694622130134464, 44.0: 0.009082343477799142, 61.0: 0.02438874490761976, 68.0: 0.024320959480130962, 51.0: 0.016741644881183442, 29.0: 0.0011044505652174894, 57.0: 0.03283164585277457, 28.0: 0.0004817284380203944, 31.0: 0.0020972811265034244, 32.0: 0.0016765595732229485, 33.0: 0.0024836580631895757, 45.0: 0.011678977253470049, 64.0: 0.03547527752483771, 53.0: 0.021006252075928718, 38.0: 0.005599980116274603, 50.0: 0.019042282290153263, 36.0: 0.004312508896837358, 35.0: 0.002795019126788123, 47.0: 0.0110517360977737, 34.0: 0.0026246517523662765, 26.0: 0.00029915968665056384, 54.0: 0.018485537979045265, 43.0: 0.010327335829343408, 66.0: 0.025690677018254615, 52.0: 0.020101994473228146, 69.0: 0.033107758494078945, 27.0: 0.00038908835378570315, 39.0: 0.005063571433413245, 76.0: 0.023133810693377138, 40.0: 0.005984097538711128, 83.0: 0.00816769210955029, 80.0: 0.011729590372661686, 37.0: 0.0035117370467696854, 71.0: 0.025980346745056747, 49.0: 0.011238823877642785, 73.0: 0.020151251883870007, 81.0: 0.013645658456345055, 24.0: 0.00016584834592259356, 88.0: 0.004267318611844826, 85.0: 0.005410180919305968, 78.0: 0.01461227865233532, 42.0: 0.005630709510069525, 90.0: 0.002212968256084307, 92.0: 0.0016910204644205588, 93.0: 0.0016797228931724258, 98.0: 0.0005305339458123293, 30.0: 0.0008125213241657309, 101.0: 0.0003425423602433949, 103.0: 0.0002020005739166194, 104.0: 3.0277490944996643e-05, 105.0: 9.309198708461655e-05, 94.0: 0.0012630684655412778, 95.0: 0.0008098099070661789, 100.0: 0.0004030973421333882, 97.0: 0.0004885069807692743, 99.0: 0.0003588108628407065, 22.0: 5.919927334021732e-05, 102.0: 5.603595339074006e-05, 5.0: 9.038056998506461e-07, 0.0: 1.8076113997012923e-06, 14.0: 1.8076113997012923e-06, 25.0: 0.0002666226814559406, 6.0: 9.038056998506461e-07, 21.0: 1.7172308297162275e-05, 23.0: 4.7901702092084246e-05, 106.0: 1.17494740980584e-05, 107.0: 3.479651944424988e-05, 109.0: 3.6152227994025845e-06, 17.0: 7.230445598805169e-06, 19.0: 7.230445598805169e-06, 112.0: 1.2653279797909045e-05, 119.0: 9.038056998506461e-07, 108.0: 6.959303888849976e-05, 12.0: 9.038056998506461e-07, 110.0: 2.530655959581809e-05, 113.0: 3.6152227994025845e-06, 115.0: 9.038056998506461e-07, 18.0: 9.038056998506461e-07, 11.0: 1.8076113997012923e-06, 118.0: 9.038056998506461e-07, 20.0: 3.6152227994025845e-06}\n"
     ]
    }
   ],
   "source": [
    "weight=create_weight(AllNotes)\n",
    "print(weight)"
   ]
  },
  {
   "cell_type": "code",
   "execution_count": 101,
   "metadata": {},
   "outputs": [
    {
     "name": "stdout",
     "output_type": "stream",
     "text": [
      "{0: 0, 1: 5, 2: 6, 3: 11, 4: 12, 5: 14, 6: 17, 7: 18, 8: 19, 9: 20, 10: 21, 11: 22, 12: 23, 13: 24, 14: 25, 15: 26, 16: 27, 17: 28, 18: 29, 19: 30, 20: 31, 21: 32, 22: 33, 23: 34, 24: 35, 25: 36, 26: 37, 27: 38, 28: 39, 29: 40, 30: 41, 31: 42, 32: 43, 33: 44, 34: 45, 35: 46, 36: 47, 37: 48, 38: 49, 39: 50, 40: 51, 41: 52, 42: 53, 43: 54, 44: 55, 45: 56, 46: 57, 47: 58, 48: 59, 49: 60, 50: 61, 51: 62, 52: 63, 53: 64, 54: 65, 55: 66, 56: 67, 57: 68, 58: 69, 59: 70, 60: 71, 61: 72, 62: 73, 63: 74, 64: 75, 65: 76, 66: 77, 67: 78, 68: 79, 69: 80, 70: 81, 71: 82, 72: 83, 73: 84, 74: 85, 75: 86, 76: 87, 77: 88, 78: 89, 79: 90, 80: 91, 81: 92, 82: 93, 83: 94, 84: 95, 85: 96, 86: 97, 87: 98, 88: 99, 89: 100, 90: 101, 91: 102, 92: 103, 93: 104, 94: 105, 95: 106, 96: 107, 97: 108, 98: 109, 99: 110, 100: 112, 101: 113, 102: 115, 103: 118, 104: 119}\n"
     ]
    }
   ],
   "source": [
    "print(ind_to_note)"
   ]
  },
  {
   "cell_type": "code",
   "execution_count": 84,
   "metadata": {},
   "outputs": [
    {
     "name": "stdout",
     "output_type": "stream",
     "text": [
      "(442560, 5, 105)\n"
     ]
    }
   ],
   "source": [
    "print(X_train.shape)"
   ]
  },
  {
   "cell_type": "code",
   "execution_count": 91,
   "metadata": {},
   "outputs": [
    {
     "name": "stderr",
     "output_type": "stream",
     "text": [
      "c:\\Users\\anhly\\AppData\\Local\\Programs\\Python\\Python39\\lib\\site-packages\\keras\\src\\layers\\rnn\\rnn.py:204: UserWarning: Do not pass an `input_shape`/`input_dim` argument to a layer. When using Sequential models, prefer using an `Input(shape)` object as the first layer in the model instead.\n",
      "  super().__init__(**kwargs)\n"
     ]
    },
    {
     "data": {
      "text/html": [
       "<pre style=\"white-space:pre;overflow-x:auto;line-height:normal;font-family:Menlo,'DejaVu Sans Mono',consolas,'Courier New',monospace\"><span style=\"font-weight: bold\">Model: \"sequential_11\"</span>\n",
       "</pre>\n"
      ],
      "text/plain": [
       "\u001b[1mModel: \"sequential_11\"\u001b[0m\n"
      ]
     },
     "metadata": {},
     "output_type": "display_data"
    },
    {
     "data": {
      "text/html": [
       "<pre style=\"white-space:pre;overflow-x:auto;line-height:normal;font-family:Menlo,'DejaVu Sans Mono',consolas,'Courier New',monospace\">┏━━━━━━━━━━━━━━━━━━━━━━━━━━━━━━━━━┳━━━━━━━━━━━━━━━━━━━━━━━━┳━━━━━━━━━━━━━━━┓\n",
       "┃<span style=\"font-weight: bold\"> Layer (type)                    </span>┃<span style=\"font-weight: bold\"> Output Shape           </span>┃<span style=\"font-weight: bold\">       Param # </span>┃\n",
       "┡━━━━━━━━━━━━━━━━━━━━━━━━━━━━━━━━━╇━━━━━━━━━━━━━━━━━━━━━━━━╇━━━━━━━━━━━━━━━┩\n",
       "│ simple_rnn_9 (<span style=\"color: #0087ff; text-decoration-color: #0087ff\">SimpleRNN</span>)        │ (<span style=\"color: #00d7ff; text-decoration-color: #00d7ff\">None</span>, <span style=\"color: #00af00; text-decoration-color: #00af00\">5</span>, <span style=\"color: #00af00; text-decoration-color: #00af00\">105</span>)         │        <span style=\"color: #00af00; text-decoration-color: #00af00\">22,155</span> │\n",
       "├─────────────────────────────────┼────────────────────────┼───────────────┤\n",
       "│ dense_8 (<span style=\"color: #0087ff; text-decoration-color: #0087ff\">Dense</span>)                 │ (<span style=\"color: #00d7ff; text-decoration-color: #00d7ff\">None</span>, <span style=\"color: #00af00; text-decoration-color: #00af00\">5</span>, <span style=\"color: #00af00; text-decoration-color: #00af00\">105</span>)         │        <span style=\"color: #00af00; text-decoration-color: #00af00\">11,130</span> │\n",
       "└─────────────────────────────────┴────────────────────────┴───────────────┘\n",
       "</pre>\n"
      ],
      "text/plain": [
       "┏━━━━━━━━━━━━━━━━━━━━━━━━━━━━━━━━━┳━━━━━━━━━━━━━━━━━━━━━━━━┳━━━━━━━━━━━━━━━┓\n",
       "┃\u001b[1m \u001b[0m\u001b[1mLayer (type)                   \u001b[0m\u001b[1m \u001b[0m┃\u001b[1m \u001b[0m\u001b[1mOutput Shape          \u001b[0m\u001b[1m \u001b[0m┃\u001b[1m \u001b[0m\u001b[1m      Param #\u001b[0m\u001b[1m \u001b[0m┃\n",
       "┡━━━━━━━━━━━━━━━━━━━━━━━━━━━━━━━━━╇━━━━━━━━━━━━━━━━━━━━━━━━╇━━━━━━━━━━━━━━━┩\n",
       "│ simple_rnn_9 (\u001b[38;5;33mSimpleRNN\u001b[0m)        │ (\u001b[38;5;45mNone\u001b[0m, \u001b[38;5;34m5\u001b[0m, \u001b[38;5;34m105\u001b[0m)         │        \u001b[38;5;34m22,155\u001b[0m │\n",
       "├─────────────────────────────────┼────────────────────────┼───────────────┤\n",
       "│ dense_8 (\u001b[38;5;33mDense\u001b[0m)                 │ (\u001b[38;5;45mNone\u001b[0m, \u001b[38;5;34m5\u001b[0m, \u001b[38;5;34m105\u001b[0m)         │        \u001b[38;5;34m11,130\u001b[0m │\n",
       "└─────────────────────────────────┴────────────────────────┴───────────────┘\n"
      ]
     },
     "metadata": {},
     "output_type": "display_data"
    },
    {
     "data": {
      "text/html": [
       "<pre style=\"white-space:pre;overflow-x:auto;line-height:normal;font-family:Menlo,'DejaVu Sans Mono',consolas,'Courier New',monospace\"><span style=\"font-weight: bold\"> Total params: </span><span style=\"color: #00af00; text-decoration-color: #00af00\">33,285</span> (130.02 KB)\n",
       "</pre>\n"
      ],
      "text/plain": [
       "\u001b[1m Total params: \u001b[0m\u001b[38;5;34m33,285\u001b[0m (130.02 KB)\n"
      ]
     },
     "metadata": {},
     "output_type": "display_data"
    },
    {
     "data": {
      "text/html": [
       "<pre style=\"white-space:pre;overflow-x:auto;line-height:normal;font-family:Menlo,'DejaVu Sans Mono',consolas,'Courier New',monospace\"><span style=\"font-weight: bold\"> Trainable params: </span><span style=\"color: #00af00; text-decoration-color: #00af00\">33,285</span> (130.02 KB)\n",
       "</pre>\n"
      ],
      "text/plain": [
       "\u001b[1m Trainable params: \u001b[0m\u001b[38;5;34m33,285\u001b[0m (130.02 KB)\n"
      ]
     },
     "metadata": {},
     "output_type": "display_data"
    },
    {
     "data": {
      "text/html": [
       "<pre style=\"white-space:pre;overflow-x:auto;line-height:normal;font-family:Menlo,'DejaVu Sans Mono',consolas,'Courier New',monospace\"><span style=\"font-weight: bold\"> Non-trainable params: </span><span style=\"color: #00af00; text-decoration-color: #00af00\">0</span> (0.00 B)\n",
       "</pre>\n"
      ],
      "text/plain": [
       "\u001b[1m Non-trainable params: \u001b[0m\u001b[38;5;34m0\u001b[0m (0.00 B)\n"
      ]
     },
     "metadata": {},
     "output_type": "display_data"
    },
    {
     "name": "stdout",
     "output_type": "stream",
     "text": [
      "Epoch 1/20\n",
      "\u001b[1m4426/4426\u001b[0m \u001b[32m━━━━━━━━━━━━━━━━━━━━\u001b[0m\u001b[37m\u001b[0m \u001b[1m24s\u001b[0m 5ms/step - accuracy: 0.0481 - loss: 4.0644\n",
      "Epoch 2/20\n",
      "\u001b[1m4426/4426\u001b[0m \u001b[32m━━━━━━━━━━━━━━━━━━━━\u001b[0m\u001b[37m\u001b[0m \u001b[1m22s\u001b[0m 5ms/step - accuracy: 0.1088 - loss: 3.6104\n",
      "Epoch 3/20\n",
      "\u001b[1m4426/4426\u001b[0m \u001b[32m━━━━━━━━━━━━━━━━━━━━\u001b[0m\u001b[37m\u001b[0m \u001b[1m23s\u001b[0m 5ms/step - accuracy: 0.1231 - loss: 3.4767\n",
      "Epoch 4/20\n",
      "\u001b[1m4426/4426\u001b[0m \u001b[32m━━━━━━━━━━━━━━━━━━━━\u001b[0m\u001b[37m\u001b[0m \u001b[1m22s\u001b[0m 5ms/step - accuracy: 0.1308 - loss: 3.4212\n",
      "Epoch 5/20\n",
      "\u001b[1m4426/4426\u001b[0m \u001b[32m━━━━━━━━━━━━━━━━━━━━\u001b[0m\u001b[37m\u001b[0m \u001b[1m22s\u001b[0m 5ms/step - accuracy: 0.1352 - loss: 3.3914\n",
      "Epoch 6/20\n",
      "\u001b[1m4426/4426\u001b[0m \u001b[32m━━━━━━━━━━━━━━━━━━━━\u001b[0m\u001b[37m\u001b[0m \u001b[1m22s\u001b[0m 5ms/step - accuracy: 0.1382 - loss: 3.3717\n",
      "Epoch 7/20\n",
      "\u001b[1m4426/4426\u001b[0m \u001b[32m━━━━━━━━━━━━━━━━━━━━\u001b[0m\u001b[37m\u001b[0m \u001b[1m23s\u001b[0m 5ms/step - accuracy: 0.1410 - loss: 3.3566\n",
      "Epoch 8/20\n",
      "\u001b[1m4426/4426\u001b[0m \u001b[32m━━━━━━━━━━━━━━━━━━━━\u001b[0m\u001b[37m\u001b[0m \u001b[1m24s\u001b[0m 5ms/step - accuracy: 0.1428 - loss: 3.3469\n",
      "Epoch 9/20\n",
      "\u001b[1m4426/4426\u001b[0m \u001b[32m━━━━━━━━━━━━━━━━━━━━\u001b[0m\u001b[37m\u001b[0m \u001b[1m29s\u001b[0m 6ms/step - accuracy: 0.1439 - loss: 3.3403\n",
      "Epoch 10/20\n",
      "\u001b[1m4426/4426\u001b[0m \u001b[32m━━━━━━━━━━━━━━━━━━━━\u001b[0m\u001b[37m\u001b[0m \u001b[1m32s\u001b[0m 7ms/step - accuracy: 0.1454 - loss: 3.3327\n",
      "Epoch 11/20\n",
      "\u001b[1m4426/4426\u001b[0m \u001b[32m━━━━━━━━━━━━━━━━━━━━\u001b[0m\u001b[37m\u001b[0m \u001b[1m28s\u001b[0m 6ms/step - accuracy: 0.1467 - loss: 3.3255\n",
      "Epoch 12/20\n",
      "\u001b[1m4426/4426\u001b[0m \u001b[32m━━━━━━━━━━━━━━━━━━━━\u001b[0m\u001b[37m\u001b[0m \u001b[1m32s\u001b[0m 7ms/step - accuracy: 0.1474 - loss: 3.3194\n",
      "Epoch 13/20\n",
      "\u001b[1m4426/4426\u001b[0m \u001b[32m━━━━━━━━━━━━━━━━━━━━\u001b[0m\u001b[37m\u001b[0m \u001b[1m30s\u001b[0m 7ms/step - accuracy: 0.1486 - loss: 3.3158\n",
      "Epoch 14/20\n",
      "\u001b[1m4426/4426\u001b[0m \u001b[32m━━━━━━━━━━━━━━━━━━━━\u001b[0m\u001b[37m\u001b[0m \u001b[1m31s\u001b[0m 7ms/step - accuracy: 0.1491 - loss: 3.3133\n",
      "Epoch 15/20\n",
      "\u001b[1m4426/4426\u001b[0m \u001b[32m━━━━━━━━━━━━━━━━━━━━\u001b[0m\u001b[37m\u001b[0m \u001b[1m30s\u001b[0m 7ms/step - accuracy: 0.1494 - loss: 3.3084\n",
      "Epoch 16/20\n",
      "\u001b[1m4426/4426\u001b[0m \u001b[32m━━━━━━━━━━━━━━━━━━━━\u001b[0m\u001b[37m\u001b[0m \u001b[1m34s\u001b[0m 8ms/step - accuracy: 0.1507 - loss: 3.3045\n",
      "Epoch 17/20\n",
      "\u001b[1m4426/4426\u001b[0m \u001b[32m━━━━━━━━━━━━━━━━━━━━\u001b[0m\u001b[37m\u001b[0m \u001b[1m36s\u001b[0m 8ms/step - accuracy: 0.1511 - loss: 3.3022\n",
      "Epoch 18/20\n",
      "\u001b[1m4426/4426\u001b[0m \u001b[32m━━━━━━━━━━━━━━━━━━━━\u001b[0m\u001b[37m\u001b[0m \u001b[1m30s\u001b[0m 7ms/step - accuracy: 0.1516 - loss: 3.2997\n",
      "Epoch 19/20\n",
      "\u001b[1m4426/4426\u001b[0m \u001b[32m━━━━━━━━━━━━━━━━━━━━\u001b[0m\u001b[37m\u001b[0m \u001b[1m32s\u001b[0m 7ms/step - accuracy: 0.1516 - loss: 3.2973\n",
      "Epoch 20/20\n",
      "\u001b[1m4426/4426\u001b[0m \u001b[32m━━━━━━━━━━━━━━━━━━━━\u001b[0m\u001b[37m\u001b[0m \u001b[1m29s\u001b[0m 7ms/step - accuracy: 0.1522 - loss: 3.2963\n"
     ]
    }
   ],
   "source": [
    "\n",
    "model = create_model(dim,weight,seq_length,X_train,y_train)"
   ]
  },
  {
   "cell_type": "code",
   "execution_count": 94,
   "metadata": {},
   "outputs": [
    {
     "data": {
      "text/html": [
       "<pre style=\"white-space:pre;overflow-x:auto;line-height:normal;font-family:Menlo,'DejaVu Sans Mono',consolas,'Courier New',monospace\"><span style=\"font-weight: bold\">Model: \"sequential_11\"</span>\n",
       "</pre>\n"
      ],
      "text/plain": [
       "\u001b[1mModel: \"sequential_11\"\u001b[0m\n"
      ]
     },
     "metadata": {},
     "output_type": "display_data"
    },
    {
     "data": {
      "text/html": [
       "<pre style=\"white-space:pre;overflow-x:auto;line-height:normal;font-family:Menlo,'DejaVu Sans Mono',consolas,'Courier New',monospace\">┏━━━━━━━━━━━━━━━━━━━━━━━━━━━━━━━━━┳━━━━━━━━━━━━━━━━━━━━━━━━┳━━━━━━━━━━━━━━━┓\n",
       "┃<span style=\"font-weight: bold\"> Layer (type)                    </span>┃<span style=\"font-weight: bold\"> Output Shape           </span>┃<span style=\"font-weight: bold\">       Param # </span>┃\n",
       "┡━━━━━━━━━━━━━━━━━━━━━━━━━━━━━━━━━╇━━━━━━━━━━━━━━━━━━━━━━━━╇━━━━━━━━━━━━━━━┩\n",
       "│ simple_rnn_9 (<span style=\"color: #0087ff; text-decoration-color: #0087ff\">SimpleRNN</span>)        │ (<span style=\"color: #00d7ff; text-decoration-color: #00d7ff\">None</span>, <span style=\"color: #00af00; text-decoration-color: #00af00\">5</span>, <span style=\"color: #00af00; text-decoration-color: #00af00\">105</span>)         │        <span style=\"color: #00af00; text-decoration-color: #00af00\">22,155</span> │\n",
       "├─────────────────────────────────┼────────────────────────┼───────────────┤\n",
       "│ dense_8 (<span style=\"color: #0087ff; text-decoration-color: #0087ff\">Dense</span>)                 │ (<span style=\"color: #00d7ff; text-decoration-color: #00d7ff\">None</span>, <span style=\"color: #00af00; text-decoration-color: #00af00\">5</span>, <span style=\"color: #00af00; text-decoration-color: #00af00\">105</span>)         │        <span style=\"color: #00af00; text-decoration-color: #00af00\">11,130</span> │\n",
       "└─────────────────────────────────┴────────────────────────┴───────────────┘\n",
       "</pre>\n"
      ],
      "text/plain": [
       "┏━━━━━━━━━━━━━━━━━━━━━━━━━━━━━━━━━┳━━━━━━━━━━━━━━━━━━━━━━━━┳━━━━━━━━━━━━━━━┓\n",
       "┃\u001b[1m \u001b[0m\u001b[1mLayer (type)                   \u001b[0m\u001b[1m \u001b[0m┃\u001b[1m \u001b[0m\u001b[1mOutput Shape          \u001b[0m\u001b[1m \u001b[0m┃\u001b[1m \u001b[0m\u001b[1m      Param #\u001b[0m\u001b[1m \u001b[0m┃\n",
       "┡━━━━━━━━━━━━━━━━━━━━━━━━━━━━━━━━━╇━━━━━━━━━━━━━━━━━━━━━━━━╇━━━━━━━━━━━━━━━┩\n",
       "│ simple_rnn_9 (\u001b[38;5;33mSimpleRNN\u001b[0m)        │ (\u001b[38;5;45mNone\u001b[0m, \u001b[38;5;34m5\u001b[0m, \u001b[38;5;34m105\u001b[0m)         │        \u001b[38;5;34m22,155\u001b[0m │\n",
       "├─────────────────────────────────┼────────────────────────┼───────────────┤\n",
       "│ dense_8 (\u001b[38;5;33mDense\u001b[0m)                 │ (\u001b[38;5;45mNone\u001b[0m, \u001b[38;5;34m5\u001b[0m, \u001b[38;5;34m105\u001b[0m)         │        \u001b[38;5;34m11,130\u001b[0m │\n",
       "└─────────────────────────────────┴────────────────────────┴───────────────┘\n"
      ]
     },
     "metadata": {},
     "output_type": "display_data"
    },
    {
     "data": {
      "text/html": [
       "<pre style=\"white-space:pre;overflow-x:auto;line-height:normal;font-family:Menlo,'DejaVu Sans Mono',consolas,'Courier New',monospace\"><span style=\"font-weight: bold\"> Total params: </span><span style=\"color: #00af00; text-decoration-color: #00af00\">66,572</span> (260.05 KB)\n",
       "</pre>\n"
      ],
      "text/plain": [
       "\u001b[1m Total params: \u001b[0m\u001b[38;5;34m66,572\u001b[0m (260.05 KB)\n"
      ]
     },
     "metadata": {},
     "output_type": "display_data"
    },
    {
     "data": {
      "text/html": [
       "<pre style=\"white-space:pre;overflow-x:auto;line-height:normal;font-family:Menlo,'DejaVu Sans Mono',consolas,'Courier New',monospace\"><span style=\"font-weight: bold\"> Trainable params: </span><span style=\"color: #00af00; text-decoration-color: #00af00\">33,285</span> (130.02 KB)\n",
       "</pre>\n"
      ],
      "text/plain": [
       "\u001b[1m Trainable params: \u001b[0m\u001b[38;5;34m33,285\u001b[0m (130.02 KB)\n"
      ]
     },
     "metadata": {},
     "output_type": "display_data"
    },
    {
     "data": {
      "text/html": [
       "<pre style=\"white-space:pre;overflow-x:auto;line-height:normal;font-family:Menlo,'DejaVu Sans Mono',consolas,'Courier New',monospace\"><span style=\"font-weight: bold\"> Non-trainable params: </span><span style=\"color: #00af00; text-decoration-color: #00af00\">0</span> (0.00 B)\n",
       "</pre>\n"
      ],
      "text/plain": [
       "\u001b[1m Non-trainable params: \u001b[0m\u001b[38;5;34m0\u001b[0m (0.00 B)\n"
      ]
     },
     "metadata": {},
     "output_type": "display_data"
    },
    {
     "data": {
      "text/html": [
       "<pre style=\"white-space:pre;overflow-x:auto;line-height:normal;font-family:Menlo,'DejaVu Sans Mono',consolas,'Courier New',monospace\"><span style=\"font-weight: bold\"> Optimizer params: </span><span style=\"color: #00af00; text-decoration-color: #00af00\">33,287</span> (130.03 KB)\n",
       "</pre>\n"
      ],
      "text/plain": [
       "\u001b[1m Optimizer params: \u001b[0m\u001b[38;5;34m33,287\u001b[0m (130.03 KB)\n"
      ]
     },
     "metadata": {},
     "output_type": "display_data"
    }
   ],
   "source": [
    "model.summary()"
   ]
  },
  {
   "cell_type": "code",
   "execution_count": null,
   "metadata": {},
   "outputs": [],
   "source": [
    "morceau=[X_train[0,:,:]]\n",
    "for k in range(200):\n",
    "    print(k)\n",
    "    test_result=next_sequence(morceau[-1],model)\n",
    "    \n",
    "    morceau.append(np.reshape(test_result, (5, 105)))"
   ]
  },
  {
   "cell_type": "markdown",
   "metadata": {},
   "source": []
  }
 ],
 "metadata": {
  "kernelspec": {
   "display_name": "Python 3",
   "language": "python",
   "name": "python3"
  },
  "language_info": {
   "codemirror_mode": {
    "name": "ipython",
    "version": 3
   },
   "file_extension": ".py",
   "mimetype": "text/x-python",
   "name": "python",
   "nbconvert_exporter": "python",
   "pygments_lexer": "ipython3",
   "version": "3.9.4"
  }
 },
 "nbformat": 4,
 "nbformat_minor": 2
}
