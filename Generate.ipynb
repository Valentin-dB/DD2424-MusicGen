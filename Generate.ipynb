{
 "cells": [
  {
   "cell_type": "code",
   "execution_count": 8,
   "metadata": {},
   "outputs": [],
   "source": [
    "import mido\n",
    "import numpy as np\n",
    "import matplotlib.pyplot as plt\n",
    "import Parser\n",
    "import PreProcessor as pp"
   ]
  },
  {
   "cell_type": "code",
   "execution_count": 9,
   "metadata": {},
   "outputs": [
    {
     "name": "stdout",
     "output_type": "stream",
     "text": [
      "adl-piano-midi\\adl-piano-midi\\Classical\\Classical\\Alexander Borodin\\Nocturne.mid\n",
      "adl-piano-midi\\adl-piano-midi\\Classical\\Classical\\Antonio Salieri\\Invention.mid\n",
      "adl-piano-midi\\adl-piano-midi\\Classical\\Classical\\Bela Bartok\\Andante.mid\n",
      "adl-piano-midi\\adl-piano-midi\\Classical\\Classical\\Bela Bartok\\Romanian Folk Dance.mid\n",
      "adl-piano-midi\\adl-piano-midi\\Classical\\Classical\\Claude Debussy\\Clair De Lune.mid\n",
      "adl-piano-midi\\adl-piano-midi\\Classical\\Classical\\Franz Schubert\\Impromptu in C-Moll.mid\n",
      "adl-piano-midi\\adl-piano-midi\\Classical\\Classical\\Franz Schubert\\Impromptu in Ges-dur.mid\n",
      "adl-piano-midi\\adl-piano-midi\\Classical\\Classical\\Franz Schubert\\Trois Marches militaires 3.mid\n",
      "adl-piano-midi\\adl-piano-midi\\Classical\\Classical\\Frederic Chopin\\Prelude Op 28 No7.mid\n",
      "adl-piano-midi\\adl-piano-midi\\Classical\\Classical\\Giacomo Puccini\\O Mio Babibino Caro.mid\n",
      "adl-piano-midi\\adl-piano-midi\\Classical\\Classical\\Jean-Baptiste Lully\\Minuet.mid\n",
      "adl-piano-midi\\adl-piano-midi\\Classical\\Classical\\Johann Sebastian Bach\\Aria, BWV 515.mid\n",
      "adl-piano-midi\\adl-piano-midi\\Classical\\Classical\\Johann Sebastian Bach\\Aus meines Herzens Grunde (Chorale 1).mid\n",
      "adl-piano-midi\\adl-piano-midi\\Classical\\Classical\\Johann Sebastian Bach\\English Suite 3 Gavotte.mid\n",
      "adl-piano-midi\\adl-piano-midi\\Classical\\Classical\\Johann Sebastian Bach\\Gib dich zufrieden und sei stille.mid\n",
      "adl-piano-midi\\adl-piano-midi\\Classical\\Classical\\Johann Sebastian Bach\\Invention 1, BWV 772.mid\n",
      "adl-piano-midi\\adl-piano-midi\\Classical\\Classical\\Johann Sebastian Bach\\Invention 5.mid\n",
      "adl-piano-midi\\adl-piano-midi\\Classical\\Classical\\Johann Sebastian Bach\\Invention 6.mid\n",
      "adl-piano-midi\\adl-piano-midi\\Classical\\Classical\\Johann Sebastian Bach\\Invention No 8.mid\n",
      "adl-piano-midi\\adl-piano-midi\\Classical\\Classical\\Johann Sebastian Bach\\Sleepers, Wake.mid\n",
      "adl-piano-midi\\adl-piano-midi\\Classical\\Classical\\Ludwig van Beethoven\\Moonlight Sonata 1st movement.mid\n",
      "adl-piano-midi\\adl-piano-midi\\Classical\\Classical\\Ludwig van Beethoven\\Moonlight Sonata 3rd Movement.mid\n",
      "adl-piano-midi\\adl-piano-midi\\Classical\\Classical\\Ludwig van Beethoven\\Sonata for Piano with Horn, Op 17.mid\n",
      "adl-piano-midi\\adl-piano-midi\\Classical\\Classical\\Pyotr Ilyich Tchaikovsky\\July - Song of the Reaper.mid\n",
      "adl-piano-midi\\adl-piano-midi\\Classical\\Classical\\Pyotr Ilyich Tchaikovsky\\March - Song of the Lark.mid\n",
      "adl-piano-midi\\adl-piano-midi\\Classical\\Classical\\Pyotr Ilyich Tchaikovsky\\Nutcracker Minature Overture.mid\n",
      "adl-piano-midi\\adl-piano-midi\\Classical\\Classical\\Richard Wagner\\Bridal March.mid\n",
      "adl-piano-midi\\adl-piano-midi\\Classical\\Classical\\Richard Wagner\\Ride of the Valkyries.mid\n",
      "adl-piano-midi\\adl-piano-midi\\Classical\\Classical\\Robert Schumann\\Curious Story.mid\n",
      "adl-piano-midi\\adl-piano-midi\\Classical\\Classical\\Wolfgang Amadeus Mozart\\Clarinet Concerto Theme.mid\n",
      "adl-piano-midi\\adl-piano-midi\\Classical\\Classical\\Wolfgang Amadeus Mozart\\Minuet from Don Juan.mid\n",
      "adl-piano-midi\\adl-piano-midi\\Classical\\Classical\\Wolfgang Amadeus Mozart\\Theme from C K467.mid\n",
      "adl-piano-midi\\adl-piano-midi\\Classical\\German Baroque\\Johann Krieger\\Minuet.mid\n",
      "adl-piano-midi\\adl-piano-midi\\Classical\\Late Romantic Era\\Charles-Valentin Alkan\\Prélude.mid\n",
      "adl-piano-midi\\adl-piano-midi\\Classical\\Late Romantic Era\\Charles-Valentin Alkan\\Saltarelle.mid\n",
      "adl-piano-midi\\adl-piano-midi\\Classical\\Neo-Classical\\Ludovico Einaudi\\Divenire.mid\n",
      "adl-piano-midi\\adl-piano-midi\\Classical\\Neo-Classical\\Yiruma\\Rivers Flow in You.mid\n",
      "adl-piano-midi\\adl-piano-midi\\Classical\\Operatic Pop\\Yanni\\Hijo de la Luna.mid\n",
      "adl-piano-midi\\adl-piano-midi\\Classical\\Post-Romantic Era\\Vladimir Rebikov\\The Bear.mid\n",
      "Number of channels  : 12 \n",
      "Number of notes     : 105 \n",
      "Number of velocities: 128 \n",
      "Number of time ticks: 1168\n"
     ]
    }
   ],
   "source": [
    "dataset = pp.load_dataset(\"adl-piano-midi\")\n",
    "Songs = pp.files_to_songs(dataset[\"Classical\"])\n",
    "\n",
    "channel_to_ind, ind_to_channel, note_to_ind, ind_to_note, velocity_to_ind, ind_to_velocity, tick_to_ind, ind_to_tick = pp.dicts_from_songs(Songs)\n",
    "\n",
    "n_Channels = len(channel_to_ind)\n",
    "n_Notes = len(note_to_ind)\n",
    "n_Velocities = len(velocity_to_ind)\n",
    "n_Ticks = len(tick_to_ind)\n",
    "\n",
    "print(\"Number of channels  :\",n_Channels,\"\\nNumber of notes     :\",n_Notes,\"\\nNumber of velocities:\",n_Velocities,\"\\nNumber of time ticks:\",n_Ticks)"
   ]
  },
  {
   "cell_type": "code",
   "execution_count": 11,
   "metadata": {},
   "outputs": [
    {
     "name": "stdout",
     "output_type": "stream",
     "text": [
      "(88512, 25, 105)\n"
     ]
    }
   ],
   "source": [
    "seq_length=25\n",
    "n_batch=64\n",
    "\n",
    "AllNotes = np.array([])\n",
    "for song in Songs.values():\n",
    "    AllNotes = np.append(AllNotes,song[:,1])\n",
    "OneHotNotes = pp.one_hot_encode(note_to_ind,AllNotes)\n",
    "X_train, y_train = pp.label_sequences(OneHotNotes,seq_length,n_batch)\n",
    "print(X_train.shape)"
   ]
  },
  {
   "cell_type": "code",
   "execution_count": 3,
   "metadata": {},
   "outputs": [],
   "source": [
    "#synthetize\n",
    "\n",
    "def synthesize_model(model, x_0, n):\n",
    "    samples = []\n",
    "    x = np.copy(x_0)\n",
    "    for i in range(n):\n",
    "        prediction = model.predict(x[np.newaxis, :, :])  # Prédire la note suivante\n",
    "        samples.append(prediction)\n",
    "        x = np.concatenate((x[1:, :], prediction), axis=0)  # Mettre à jour la séquence d'entrée avec la prédiction\n",
    "    return np.array(samples)"
   ]
  },
  {
   "cell_type": "code",
   "execution_count": null,
   "metadata": {},
   "outputs": [],
   "source": [
    "sample=synthesize_model(model,training_one_hot[:, 0], 100)"
   ]
  },
  {
   "cell_type": "code",
   "execution_count": 4,
   "metadata": {},
   "outputs": [],
   "source": [
    "from keras.models import Sequential\n",
    "from tensorflow.keras.layers import SimpleRNN\n",
    "from keras import optimizers"
   ]
  },
  {
   "cell_type": "code",
   "execution_count": null,
   "metadata": {},
   "outputs": [],
   "source": [
    "dim=len(note_to_ind)"
   ]
  },
  {
   "cell_type": "code",
   "execution_count": 12,
   "metadata": {},
   "outputs": [],
   "source": [
    "def create_weight(notes):\n",
    "    # Calculer les poids en fonction de la fréquence des notes\n",
    "    note_counts = {}\n",
    "    for note in notes:\n",
    "        for element in note:\n",
    "            if element in note_counts:\n",
    "                note_counts[element] += 1\n",
    "            else:\n",
    "                note_counts[element] = 1\n",
    "    \n",
    "    # Calculer les poids pour chaque note\n",
    "    total_notes = sum(note_counts.values())\n",
    "    weights = {note: count/total_notes for note, count in note_counts.items()}\n",
    "    \n",
    "    return weights"
   ]
  },
  {
   "cell_type": "code",
   "execution_count": null,
   "metadata": {},
   "outputs": [],
   "source": [
    "def create_model(dim,weights,training_one_hot,label_one_hot):\n",
    "    model = Sequential()\n",
    "    model.add(SimpleRNN(units=dim, input_shape=(5,dim)))\n",
    "    model.add(Dense(units=dim, activation='softmax'))  # Ajouter la couche de sortie\n",
    "    model.summary()\n",
    "    # Compiler le modèle\n",
    "    opt = optimizers.Adagrad(learning_rate=0.01)\n",
    "    model.compile(optimizer=opt, loss='categorical_crossentropy', metrics=['accuracy'])\n",
    "    # Train the model\n",
    "    model.fit(training_one_hot, label_one_hot, epochs=20, batch_size=32,class_weight=weights)\n",
    "    return model"
   ]
  },
  {
   "cell_type": "code",
   "execution_count": null,
   "metadata": {},
   "outputs": [],
   "source": [
    "def generate_sequence(epoch_num, initial_index, seq_length,ind_to_note,dim,weights):\n",
    "\n",
    "    \n",
    "    model = create_model(dim)\n",
    "    weights = create_weight(notes)\n",
    "    model.load_weights(model_weights_directory + \"weights.{}.h5\".format(epoch_num))\n",
    "     \n",
    "    sequence_index = [initial_index]\n",
    "    notes=[]\n",
    "    \n",
    "    for _ in range(seq_length):\n",
    "        batch = np.zeros((1, 1))\n",
    "        batch[0, 0] = sequence_index[-1]\n",
    "        raw_predictions = model.predict(input_data)\n",
    "        predicted_probs = np.softmax(raw_predictions, axis=-1)\n",
    "        sample = np.random.choice(dim, size = 1, p = predicted_probs)\n",
    "        sequence_index.append(sample[0])\n",
    "    \n",
    "    notes = []\n",
    "    \n",
    "    \n",
    "    return seq2"
   ]
  },
  {
   "cell_type": "code",
   "execution_count": null,
   "metadata": {},
   "outputs": [],
   "source": [
    "ep=90\n",
    "ini=65#initial note\n",
    "length=2000 #size of the sequence\n",
    "\n",
    "music = generate_sequence(ep,ini,length)\n"
   ]
  }
 ],
 "metadata": {
  "kernelspec": {
   "display_name": "Python 3",
   "language": "python",
   "name": "python3"
  },
  "language_info": {
   "codemirror_mode": {
    "name": "ipython",
    "version": 3
   },
   "file_extension": ".py",
   "mimetype": "text/x-python",
   "name": "python",
   "nbconvert_exporter": "python",
   "pygments_lexer": "ipython3",
   "version": "3.9.4"
  }
 },
 "nbformat": 4,
 "nbformat_minor": 2
}
