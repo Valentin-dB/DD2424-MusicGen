{
 "cells": [
  {
   "cell_type": "code",
   "execution_count": 1,
   "id": "91bbcd61",
   "metadata": {},
   "outputs": [],
   "source": [
    "import mido\n",
    "import numpy as np\n",
    "import matplotlib.pyplot as plt\n",
    "import PreProcessor as pp\n",
    "from keras.models import Model\n",
    "from tensorflow.keras.layers import MultiHeadAttention, Embedding, Dense, LayerNormalization, Dropout, Softmax, concatenate, Add\n",
    "from keras import optimizers\n",
    "import tensorflow as tf\n",
    "from utils import *"
   ]
  },
  {
   "cell_type": "code",
   "execution_count": 2,
   "id": "9b274fc4",
   "metadata": {},
   "outputs": [
    {
     "name": "stdout",
     "output_type": "stream",
     "text": [
      "\n",
      "Number of channels   : 12 \n",
      "Number of notes      : 105 \n",
      "Number of velocities : 128 \n",
      "Time range           : 0.0 190.285\n"
     ]
    }
   ],
   "source": [
    "dataset = pp.load_dataset(\"../adl-piano-midi\")\n",
    "ClassicSongs = pp.files_to_songs(dataset[\"Classical\"])\n",
    "\n",
    "channel_to_ind, ind_to_channel, note_to_ind, ind_to_note, velocity_to_ind, ind_to_velocity = pp.dicts_from_songs(ClassicSongs)\n",
    "time_range = pp.ranges_from_songs(ClassicSongs)\n",
    "\n",
    "n_Channels = len(channel_to_ind)\n",
    "n_Notes = len(note_to_ind)\n",
    "n_Velocities = len(velocity_to_ind)\n",
    "\n",
    "print(\"\\nNumber of channels   :\",n_Channels,\"\\nNumber of notes      :\",n_Notes,\"\\nNumber of velocities :\",n_Velocities,\"\\nTime range           :\",time_range[0],time_range[1])\n",
    "\n",
    "n_Notes = 128\n",
    "n_Velocities = 128"
   ]
  },
  {
   "cell_type": "code",
   "execution_count": 3,
   "id": "994b16d9",
   "metadata": {},
   "outputs": [],
   "source": [
    "seq_length = 30\n",
    "val_split = 0.1\n",
    "test_split = 0.1\n",
    "\n",
    "Train_X, Train_y, Val_X, Val_y, Test_X, Test_y = pp.prep_data_transformer(seq_length,ClassicSongs,n_Channels,n_Notes,channel_to_ind,note_to_ind,val_split,test_split)"
   ]
  },
  {
   "cell_type": "code",
   "execution_count": 4,
   "id": "88badd6f",
   "metadata": {},
   "outputs": [],
   "source": [
    "class MusicEmbedding(tf.keras.layers.Layer):\n",
    "    def __init__(self, n_Channels, n_Notes, n_Velocities, d_model):\n",
    "        super().__init__()\n",
    "        self.d_model = d_model\n",
    "        \n",
    "        tot_dim = n_Channels + n_Notes + n_Velocities\n",
    "        self.d_Channels = int((d_model-1)*n_Channels/tot_dim)\n",
    "        self.d_Notes = int((d_model-1)*n_Notes/tot_dim)\n",
    "        self.d_Velocities = int((d_model-1)*n_Velocities/tot_dim)\n",
    "        while self.d_Channels + self.d_Notes + self.d_Velocities != d_model - 1 : self.d_Channels += 1\n",
    "            \n",
    "        self.Channel_Embedding = Embedding(n_Channels, self.d_Channels)\n",
    "        self.Notes_Embedding = Embedding(n_Notes, self.d_Notes)\n",
    "        self.Velocities_Embedding = Embedding(n_Velocities, self.d_Velocities)\n",
    "\n",
    "    def call(self, x):\n",
    "        chan = self.Channel_Embedding(x[0])\n",
    "        note = self.Notes_Embedding(x[1])\n",
    "        velo = self.Velocities_Embedding(x[2])\n",
    "        \n",
    "        # Scale to values between 0 and 1 ? (/time_range[1])\n",
    "        time = tf.expand_dims(x[3],-1)\n",
    "        return concatenate([chan,note,velo,time])"
   ]
  },
  {
   "cell_type": "code",
   "execution_count": 5,
   "id": "74aef36d",
   "metadata": {},
   "outputs": [],
   "source": [
    "class PositionalEncoding(tf.keras.layers.Layer):\n",
    "    def __init__(self, d_model, seq_length):\n",
    "        super().__init__()\n",
    "        self.d_model = d_model\n",
    "        self.seq_length = seq_length\n",
    "        self.pos_encoding = self.positional_encoding(seq_length, d_model)\n",
    "        \n",
    "    def positional_encoding(self, length, depth):\n",
    "        depth = depth/2\n",
    "\n",
    "        positions = np.arange(length)[:, np.newaxis]     # (seq, 1)\n",
    "        depths = np.arange(depth)[np.newaxis, :]/depth   # (1, depth)\n",
    "\n",
    "        angle_rates = 1 / (10000**depths)         # (1, depth)\n",
    "        angle_rads = positions * angle_rates      # (pos, depth)\n",
    "\n",
    "        pos_encoding = np.concatenate([np.sin(angle_rads), np.cos(angle_rads)],axis=-1) \n",
    "\n",
    "        return tf.cast(pos_encoding, dtype=tf.float32)[tf.newaxis, :, :]\n",
    "\n",
    "    def call(self, x):\n",
    "        # This factor sets the relative scale of the embedding and positonal_encoding.\n",
    "        # x *= tf.math.sqrt(tf.cast(self.d_model, tf.float64))\n",
    "        return x + self.pos_encoding"
   ]
  },
  {
   "cell_type": "code",
   "execution_count": 6,
   "id": "9fe366fc",
   "metadata": {},
   "outputs": [],
   "source": [
    "class SelfAttentionBlock(tf.keras.layers.Layer):\n",
    "    # Dropout ??\n",
    "    def __init__(self, num_heads, d_model, **kwargs):\n",
    "        super().__init__()\n",
    "        self.mha = MultiHeadAttention(num_heads, d_model, **kwargs)\n",
    "        self.layer_norm = LayerNormalization()\n",
    "        self.add = Add()\n",
    "\n",
    "    def call(self, x):\n",
    "        attn_output = self.mha(query=x,value=x,key=x,use_causal_mask = True)\n",
    "        x = self.add([x, attn_output])\n",
    "        x = self.layer_norm(x)\n",
    "        return x"
   ]
  },
  {
   "cell_type": "code",
   "execution_count": 7,
   "id": "4addbe25",
   "metadata": {},
   "outputs": [],
   "source": [
    "class FeedForward(tf.keras.layers.Layer):\n",
    "    def __init__(self, d_model, dff, dropout_rate=0.1):\n",
    "        super().__init__()\n",
    "        self.seq = tf.keras.Sequential([\n",
    "          Dense(dff, activation='relu'),\n",
    "          Dense(d_model),\n",
    "          Dropout(dropout_rate)\n",
    "        ])\n",
    "        self.add = Add()\n",
    "        self.layer_norm = LayerNormalization()\n",
    "\n",
    "    def call(self, x):\n",
    "        x = self.add([x, self.seq(x)])\n",
    "        x = self.layer_norm(x) \n",
    "        return x"
   ]
  },
  {
   "cell_type": "code",
   "execution_count": 8,
   "id": "c095b258",
   "metadata": {},
   "outputs": [],
   "source": [
    "class DecoderLayer(tf.keras.layers.Layer):\n",
    "    def __init__(self,d_model,num_heads,dff,dropout_rate=0.1):\n",
    "        super().__init__()\n",
    "        self.self_attention_block = SelfAttentionBlock(num_heads,d_model)\n",
    "        self.ffn = FeedForward(d_model, dff)\n",
    "\n",
    "    def call(self, x):\n",
    "        x = self.self_attention_block(x)\n",
    "        x = self.ffn(x)\n",
    "        return x"
   ]
  },
  {
   "cell_type": "code",
   "execution_count": 30,
   "id": "57826f5c",
   "metadata": {},
   "outputs": [],
   "source": [
    "class Transformer(tf.keras.Model):\n",
    "    def __init__(self, n_Channels, n_Notes, n_Velocities, max_time, seq_length, d_model, n_layers, n_heads, dff, dropout_rate=0.1):\n",
    "        super().__init__()\n",
    "        self.embedding = MusicEmbedding(n_Channels, n_Notes, n_Velocities, d_model)\n",
    "        self.pos_enc = PositionalEncoding(d_model, seq_length)\n",
    "        self.layer_norm = LayerNormalization()\n",
    "        self.dec_layers = [DecoderLayer(d_model, n_heads, dff, dropout_rate) for _ in range(n_layers)]\n",
    "        self.out_chan = Dense(n_Channels, activation=\"softmax\",name=\"Channels\")\n",
    "        self.out_note = Dense(n_Notes, activation=\"softmax\",name=\"Notes\")\n",
    "        self.out_velo = Dense(1, activation = lambda x: (tf.sigmoid(x) * n_Notes),name=\"Velocities\")\n",
    "        self.out_time = Dense(1, activation = lambda x: ((1 + tf.tanh(x)) * 0.5 * max_time),name=\"Times\")\n",
    "    \n",
    "    def call(self, inputs):\n",
    "        x = self.embedding(inputs)\n",
    "        x = self.pos_enc(x)\n",
    "        x = self.layer_norm(x)\n",
    "        for dec_layer in self.dec_layers:\n",
    "            x = dec_layer(x)\n",
    "        chan = self.out_chan(x)\n",
    "        note = self.out_note(x)\n",
    "        velo = self.out_velo(x)\n",
    "        time = self.out_time(x)\n",
    "        return [chan, note, velo, time]  "
   ]
  },
  {
   "cell_type": "code",
   "execution_count": 10,
   "id": "2589383c",
   "metadata": {},
   "outputs": [
    {
     "name": "stdout",
     "output_type": "stream",
     "text": [
      "tf.Tensor(\n",
      "[[[-9.1796756e-01 -6.3600618e-01 -7.5247103e-01 -1.4177717e+00\n",
      "   -8.7639356e-01 -3.9225024e-01 -1.8076243e+00 -1.0548118e+00\n",
      "   -1.6961154e-01 -3.2920593e-01 -1.3802953e+00 -1.6918079e+00\n",
      "   -8.0640751e-01 -1.0653987e+00 -3.8881657e-01 -6.2033200e-01\n",
      "   -9.7946101e-01 -8.9179856e-01 -4.5252046e-01 -3.5649103e-01\n",
      "   -1.2561321e+00 -9.1505116e-01 -1.1268779e+00 -1.5286310e+00\n",
      "   -7.4414563e-01  8.1690013e-01  4.9796620e-01  4.6457461e-01\n",
      "    5.9958440e-01  8.7763017e-01  9.2653829e-01  1.3074914e+00\n",
      "    5.6613386e-01  3.7282428e-01  1.0854530e+00  4.4058508e-01\n",
      "    1.3508781e+00  9.5127088e-01  1.5607020e+00  9.9361354e-01\n",
      "    8.6978495e-01  4.3149260e-01  1.5279782e+00  6.5811598e-01\n",
      "    2.7541986e-01  7.1707636e-01  1.1144626e+00  7.0899892e-01\n",
      "    1.4358337e+00  2.0069711e+00]\n",
      "  [ 5.5762464e-01  1.7696032e-01  1.2240556e-01 -9.9351454e-01\n",
      "   -7.4468023e-01 -2.9302263e-01 -1.6682713e+00 -1.0001571e+00\n",
      "   -2.1284811e-01 -5.5945241e-01 -1.6420459e+00 -1.6939449e+00\n",
      "   -9.0124756e-01 -1.1988660e+00 -6.2899989e-01 -9.2376333e-01\n",
      "   -1.3129486e+00 -9.6868038e-01 -6.1066478e-01 -4.0909469e-01\n",
      "   -1.7310927e+00 -9.5111525e-01 -1.3052796e+00 -1.3927644e+00\n",
      "   -9.1747832e-01 -1.0596925e-01 -6.6869967e-02  6.2644702e-01\n",
      "    6.1234754e-01  8.5972744e-01  8.8073897e-01  1.5337560e+00\n",
      "    4.8792526e-01  8.2796842e-01  1.0762290e+00  5.3160274e-01\n",
      "    9.6497840e-01  1.1567699e+00  1.9047306e+00  1.3060472e+00\n",
      "    7.2782189e-01  5.9154874e-01  1.6656021e+00  7.5057018e-01\n",
      "    4.4128707e-01  5.1645887e-01  9.9952912e-01  7.9530209e-01\n",
      "    9.8305947e-01  1.1353333e+00]\n",
      "  [ 4.2747825e-01  7.0686764e-01  7.0954990e-01  7.2144575e-02\n",
      "   -3.2763311e-01 -2.5324979e-01 -1.1804396e+00 -1.1079295e+00\n",
      "    3.2251260e-01 -3.6713928e-01 -1.5006474e+00 -1.6715164e+00\n",
      "   -9.0660572e-01 -9.5790243e-01 -8.3255363e-01 -8.5682797e-01\n",
      "   -1.2229186e+00 -6.6298372e-01 -3.5276911e-01 -1.6084062e-01\n",
      "   -1.6813979e+00 -7.1536535e-01 -9.9126953e-01 -1.1325483e+00\n",
      "   -9.1157955e-01 -1.2204318e+00 -9.7533011e-01  3.7297437e-01\n",
      "    1.9151339e-03  3.0437297e-01  5.4971182e-01  1.2826513e+00\n",
      "   -9.7444639e-02  4.7325677e-01  1.0032036e+00  2.4311870e-01\n",
      "    7.1861464e-01  5.6947708e-01  1.4639257e+00  8.4846884e-01\n",
      "    5.2973497e-01  3.5277018e-01  1.2989851e+00  6.6009939e-01\n",
      "    3.7718514e-01  3.7503672e-01  1.3509734e+00  2.2403932e-01\n",
      "    1.2105044e+00  3.6377525e+00]\n",
      "  [-6.7386574e-01  5.3867060e-01  1.3443705e+00  5.2556765e-01\n",
      "    5.6694146e-02  1.6851313e-01 -3.0786705e-01 -6.2614340e-01\n",
      "    7.7345014e-01 -7.2174078e-01 -1.5621247e+00 -1.7521567e+00\n",
      "   -1.0693626e+00 -9.4027120e-01 -1.0037537e+00 -1.0163803e+00\n",
      "   -1.0342741e+00 -9.1376936e-01 -1.6544914e-01 -2.1418341e-01\n",
      "   -1.7967680e+00 -4.7405669e-01 -7.2281641e-01 -1.1023420e+00\n",
      "   -1.0248520e+00 -1.9982176e+00 -2.1152549e+00 -1.9677120e-01\n",
      "    1.0507697e-01  3.3343703e-01  3.0474952e-01  1.5857970e+00\n",
      "    1.3614447e-01  9.4992346e-01  1.0697622e+00  6.4540809e-01\n",
      "    1.0729381e+00  1.0566397e+00  1.7733859e+00  8.4522283e-01\n",
      "    4.4208506e-01  8.3079398e-01  1.3974954e+00  7.0644593e-01\n",
      "    3.0410501e-01  6.7440879e-01  1.1777785e+00  4.2043328e-01\n",
      "    1.0553551e+00  1.1377684e+00]]], shape=(1, 4, 50), dtype=float32)\n"
     ]
    }
   ],
   "source": [
    "chan = np.array([[1,2,2,0]],dtype=int)\n",
    "note = np.array([[0,54,78,39]],dtype=int)\n",
    "velo = np.array([[127,0,32,49]],dtype=int)\n",
    "time = np.array([[0.541,0.0236,1.754,0.0416]])\n",
    "\n",
    "dim = 50\n",
    "seq_length = 4\n",
    "n_heads = 2\n",
    "\n",
    "musEmb = MusicEmbedding(n_Channels, n_Notes, n_Velocities, dim)\n",
    "posEnc = PositionalEncoding(dim, seq_length)\n",
    "selAtt = SelfAttentionBlock(n_heads,dim)\n",
    "fedFor = FeedForward(dim,4*dim)\n",
    "\n",
    "x = musEmb.call([chan,note,velo,time])\n",
    "y = posEnc.call(x)\n",
    "z = selAtt.call(y)\n",
    "o = fedFor.call(z)\n",
    "print(o)"
   ]
  },
  {
   "cell_type": "code",
   "execution_count": 33,
   "id": "51cc5002",
   "metadata": {},
   "outputs": [
    {
     "name": "stdout",
     "output_type": "stream",
     "text": [
      "Model: \"transformer_12\"\n",
      "_________________________________________________________________\n",
      " Layer (type)                Output Shape              Param #   \n",
      "=================================================================\n",
      " music_embedding_12 (MusicEm  multiple                 7716      \n",
      " bedding)                                                        \n",
      "                                                                 \n",
      " positional_encoding_12 (Pos  multiple                 0         \n",
      " itionalEncoding)                                                \n",
      "                                                                 \n",
      " layer_normalization_36 (Lay  multiple                 128       \n",
      " erNormalization)                                                \n",
      "                                                                 \n",
      " decoder_layer_12 (DecoderLa  multiple                 99712     \n",
      " yer)                                                            \n",
      "                                                                 \n",
      " Channels (Dense)            multiple                  780       \n",
      "                                                                 \n",
      " Notes (Dense)               multiple                  8320      \n",
      "                                                                 \n",
      " Velocities (Dense)          multiple                  65        \n",
      "                                                                 \n",
      " Times (Dense)               multiple                  65        \n",
      "                                                                 \n",
      "=================================================================\n",
      "Total params: 116,786\n",
      "Trainable params: 116,786\n",
      "Non-trainable params: 0\n",
      "_________________________________________________________________\n"
     ]
    }
   ],
   "source": [
    "d_model = 64\n",
    "n_layers = 1\n",
    "n_heads = 4\n",
    "dff = 4*d_model\n",
    "\n",
    "n_batch = 200\n",
    "learning_rate = 0.001\n",
    "\n",
    "optimizer= optimizers.Adam(learning_rate=learning_rate)\n",
    "\n",
    "losses = {\n",
    "    'output_1': 'categorical_crossentropy', # Channels\n",
    "    'output_2': 'categorical_crossentropy',    # Notes\n",
    "    'output_3': 'mean_squared_error',     # Velocities\n",
    "    'output_4': 'mean_squared_error'           # Times\n",
    "}\n",
    "\n",
    "\n",
    "loss_weights = {\n",
    "    'output_1': 1.0,     # Channels\n",
    "    'output_2': 1.0,        # Notes\n",
    "    'output_3': 1.0,   # Velocities\n",
    "    'output_4': 1.0         # Times\n",
    "}\n",
    "\n",
    "metrics = {\n",
    "    'output_1': 'accuracy',          # Channels\n",
    "    'output_2': 'accuracy',             # Notes\n",
    "    'output_3': rounded_accuracy,  # Velocities\n",
    "    'output_4': tol_accuracy            # Times\n",
    "}\n",
    "\n",
    "ClassicTransformer = Transformer(n_Channels, n_Notes, n_Velocities, time_range[1], seq_length, d_model, n_layers, n_heads, dff)\n",
    "build = ClassicTransformer([Train_X[0][0:2,:],Train_X[1][0:2,:],Train_X[2][0:2,:],Train_X[3][0:2,:]])\n",
    "ClassicTransformer.summary()\n",
    "ClassicTransformer.compile(optimizer=optimizer, loss=losses, loss_weights=loss_weights, metrics=metrics)"
   ]
  },
  {
   "cell_type": "code",
   "execution_count": 35,
   "id": "74c14cfa",
   "metadata": {},
   "outputs": [
    {
     "name": "stdout",
     "output_type": "stream",
     "text": [
      "Epoch 1/3\n"
     ]
    },
    {
     "ename": "TypeError",
     "evalue": "'NoneType' object is not callable",
     "output_type": "error",
     "traceback": [
      "\u001b[1;31m---------------------------------------------------------------------------\u001b[0m",
      "\u001b[1;31mTypeError\u001b[0m                                 Traceback (most recent call last)",
      "\u001b[1;32m~\\AppData\\Local\\Temp\\ipykernel_9764\\2307512357.py\u001b[0m in \u001b[0;36m<module>\u001b[1;34m\u001b[0m\n\u001b[0;32m      1\u001b[0m \u001b[0mn_epochs\u001b[0m \u001b[1;33m=\u001b[0m \u001b[1;36m3\u001b[0m\u001b[1;33m\u001b[0m\u001b[1;33m\u001b[0m\u001b[0m\n\u001b[0;32m      2\u001b[0m \u001b[1;33m\u001b[0m\u001b[0m\n\u001b[1;32m----> 3\u001b[1;33m \u001b[0mClassicTransformer\u001b[0m\u001b[1;33m.\u001b[0m\u001b[0mfit\u001b[0m\u001b[1;33m(\u001b[0m\u001b[0mTrain_X\u001b[0m\u001b[1;33m,\u001b[0m\u001b[0mTrain_y\u001b[0m\u001b[1;33m,\u001b[0m \u001b[0mepochs\u001b[0m\u001b[1;33m=\u001b[0m\u001b[0mn_epochs\u001b[0m\u001b[1;33m,\u001b[0m \u001b[0mbatch_size\u001b[0m\u001b[1;33m=\u001b[0m\u001b[0mn_batch\u001b[0m\u001b[1;33m,\u001b[0m \u001b[0mvalidation_data\u001b[0m\u001b[1;33m=\u001b[0m\u001b[1;33m(\u001b[0m\u001b[0mVal_X\u001b[0m\u001b[1;33m,\u001b[0m\u001b[0mVal_y\u001b[0m\u001b[1;33m)\u001b[0m\u001b[1;33m)\u001b[0m\u001b[1;33m\u001b[0m\u001b[1;33m\u001b[0m\u001b[0m\n\u001b[0m",
      "\u001b[1;32m~\\anaconda3\\lib\\site-packages\\keras\\utils\\traceback_utils.py\u001b[0m in \u001b[0;36merror_handler\u001b[1;34m(*args, **kwargs)\u001b[0m\n\u001b[0;32m     68\u001b[0m             \u001b[1;31m# To get the full stack trace, call:\u001b[0m\u001b[1;33m\u001b[0m\u001b[1;33m\u001b[0m\u001b[0m\n\u001b[0;32m     69\u001b[0m             \u001b[1;31m# `tf.debugging.disable_traceback_filtering()`\u001b[0m\u001b[1;33m\u001b[0m\u001b[1;33m\u001b[0m\u001b[0m\n\u001b[1;32m---> 70\u001b[1;33m             \u001b[1;32mraise\u001b[0m \u001b[0me\u001b[0m\u001b[1;33m.\u001b[0m\u001b[0mwith_traceback\u001b[0m\u001b[1;33m(\u001b[0m\u001b[0mfiltered_tb\u001b[0m\u001b[1;33m)\u001b[0m \u001b[1;32mfrom\u001b[0m \u001b[1;32mNone\u001b[0m\u001b[1;33m\u001b[0m\u001b[1;33m\u001b[0m\u001b[0m\n\u001b[0m\u001b[0;32m     71\u001b[0m         \u001b[1;32mfinally\u001b[0m\u001b[1;33m:\u001b[0m\u001b[1;33m\u001b[0m\u001b[1;33m\u001b[0m\u001b[0m\n\u001b[0;32m     72\u001b[0m             \u001b[1;32mdel\u001b[0m \u001b[0mfiltered_tb\u001b[0m\u001b[1;33m\u001b[0m\u001b[1;33m\u001b[0m\u001b[0m\n",
      "\u001b[1;32m~\\anaconda3\\lib\\site-packages\\tensorflow\\python\\eager\\polymorphic_function\\polymorphic_function.py\u001b[0m in \u001b[0;36m_call\u001b[1;34m(self, *args, **kwds)\u001b[0m\n\u001b[0;32m    910\u001b[0m       \u001b[1;31m# In this case we have created variables on the first call, so we run the\u001b[0m\u001b[1;33m\u001b[0m\u001b[1;33m\u001b[0m\u001b[0m\n\u001b[0;32m    911\u001b[0m       \u001b[1;31m# defunned version which is guaranteed to never create variables.\u001b[0m\u001b[1;33m\u001b[0m\u001b[1;33m\u001b[0m\u001b[0m\n\u001b[1;32m--> 912\u001b[1;33m       \u001b[1;32mreturn\u001b[0m \u001b[0mself\u001b[0m\u001b[1;33m.\u001b[0m\u001b[0m_no_variable_creation_fn\u001b[0m\u001b[1;33m(\u001b[0m\u001b[1;33m*\u001b[0m\u001b[0margs\u001b[0m\u001b[1;33m,\u001b[0m \u001b[1;33m**\u001b[0m\u001b[0mkwds\u001b[0m\u001b[1;33m)\u001b[0m  \u001b[1;31m# pylint: disable=not-callable\u001b[0m\u001b[1;33m\u001b[0m\u001b[1;33m\u001b[0m\u001b[0m\n\u001b[0m\u001b[0;32m    913\u001b[0m     \u001b[1;32melif\u001b[0m \u001b[0mself\u001b[0m\u001b[1;33m.\u001b[0m\u001b[0m_variable_creation_fn\u001b[0m \u001b[1;32mis\u001b[0m \u001b[1;32mnot\u001b[0m \u001b[1;32mNone\u001b[0m\u001b[1;33m:\u001b[0m\u001b[1;33m\u001b[0m\u001b[1;33m\u001b[0m\u001b[0m\n\u001b[0;32m    914\u001b[0m       \u001b[1;31m# Release the lock early so that multiple threads can perform the call\u001b[0m\u001b[1;33m\u001b[0m\u001b[1;33m\u001b[0m\u001b[0m\n",
      "\u001b[1;31mTypeError\u001b[0m: 'NoneType' object is not callable"
     ]
    }
   ],
   "source": [
    "n_epochs = 3\n",
    "\n",
    "ClassicTransformer.fit(Train_X,Train_y, epochs=n_epochs, batch_size=n_batch, validation_data=(Val_X,Val_y))"
   ]
  },
  {
   "cell_type": "code",
   "execution_count": 36,
   "id": "3062a62b",
   "metadata": {},
   "outputs": [
    {
     "data": {
      "text/plain": [
       "(2, 30)"
      ]
     },
     "execution_count": 36,
     "metadata": {},
     "output_type": "execute_result"
    }
   ],
   "source": [
    "Train_X[0][0:2,:].shape"
   ]
  },
  {
   "cell_type": "code",
   "execution_count": null,
   "id": "a276e030",
   "metadata": {},
   "outputs": [],
   "source": []
  }
 ],
 "metadata": {
  "kernelspec": {
   "display_name": "Python 3 (ipykernel)",
   "language": "python",
   "name": "python3"
  },
  "language_info": {
   "codemirror_mode": {
    "name": "ipython",
    "version": 3
   },
   "file_extension": ".py",
   "mimetype": "text/x-python",
   "name": "python",
   "nbconvert_exporter": "python",
   "pygments_lexer": "ipython3",
   "version": "3.9.13"
  }
 },
 "nbformat": 4,
 "nbformat_minor": 5
}
