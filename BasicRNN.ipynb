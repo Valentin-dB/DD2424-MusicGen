{
 "cells": [
  {
   "cell_type": "code",
   "execution_count": 1,
   "id": "3def32a8",
   "metadata": {},
   "outputs": [],
   "source": [
    "import mido\n",
    "import numpy as np\n",
    "import matplotlib.pyplot as plt\n",
    "import PreProcessor as pp"
   ]
  },
  {
   "cell_type": "code",
   "execution_count": 2,
   "id": "a07de6e5",
   "metadata": {},
   "outputs": [
    {
     "name": "stdout",
     "output_type": "stream",
     "text": [
      "Number of channels  : 7 \n",
      "Number of notes     : 79 \n",
      "Number of velocities: 115 \n",
      "Number of time ticks: 525\n"
     ]
    }
   ],
   "source": [
    "dataset = pp.load_dataset(\"adl-piano-midi\")\n",
    "ReggaeSongs = pp.files_to_songs(dataset[\"Reggae\"])\n",
    "\n",
    "channel_to_ind, ind_to_channel, note_to_ind, ind_to_note, velocity_to_ind, ind_to_velocity, tick_to_ind, ind_to_tick = pp.dicts_from_songs(ReggaeSongs)\n",
    "\n",
    "n_Channels = len(channel_to_ind)\n",
    "n_Notes = len(note_to_ind)\n",
    "n_Velocities = len(velocity_to_ind)\n",
    "n_Ticks = len(tick_to_ind)\n",
    "\n",
    "print(\"Number of channels  :\",n_Channels,\"\\nNumber of notes     :\",n_Notes,\"\\nNumber of velocities:\",n_Velocities,\"\\nNumber of time ticks:\",n_Ticks)"
   ]
  },
  {
   "cell_type": "code",
   "execution_count": 3,
   "id": "7a331ce6",
   "metadata": {},
   "outputs": [
    {
     "name": "stdout",
     "output_type": "stream",
     "text": [
      "(230, 15, 79)\n"
     ]
    }
   ],
   "source": [
    "seq_length = 15\n",
    "n_batch = 10\n",
    "BuffaloSoldier = ReggaeSongs[\"adl-piano-midi\\\\Reggae\\\\Reggae\\\\Bob Marley  The Wailers\\\\Buffalo Soldier.mid\"]\n",
    "BSNotes = BuffaloSoldier[:,1]\n",
    "OneHotBSNotes = pp.one_hot_encode(note_to_ind,BSNotes)\n",
    "X_train_BS, y_train_BS = pp.label_sequences(OneHotBSNotes,seq_length,n_batch)\n",
    "print(X_train_BS.shape)"
   ]
  },
  {
   "cell_type": "code",
   "execution_count": 4,
   "id": "8c99462b",
   "metadata": {},
   "outputs": [
    {
     "name": "stdout",
     "output_type": "stream",
     "text": [
      "(4310, 15, 79)\n"
     ]
    }
   ],
   "source": [
    "AllNotes = np.array([])\n",
    "for song in ReggaeSongs.values():\n",
    "    AllNotes = np.append(AllNotes,song[:,1])\n",
    "OneHotNotes = pp.one_hot_encode(note_to_ind,AllNotes)\n",
    "X_train, y_train = pp.label_sequences(OneHotNotes,seq_length,n_batch)\n",
    "print(X_train.shape)"
   ]
  },
  {
   "cell_type": "code",
   "execution_count": 5,
   "id": "932cbeda",
   "metadata": {},
   "outputs": [],
   "source": [
    "from keras.models import Sequential\n",
    "from tensorflow.keras.layers import SimpleRNN, Dense, Softmax\n",
    "from keras import optimizers"
   ]
  },
  {
   "cell_type": "code",
   "execution_count": 101,
   "id": "cd802783",
   "metadata": {},
   "outputs": [
    {
     "name": "stdout",
     "output_type": "stream",
     "text": [
      "Model: \"sequential_27\"\n",
      "_________________________________________________________________\n",
      " Layer (type)                Output Shape              Param #   \n",
      "=================================================================\n",
      " simple_rnn_27 (SimpleRNN)   (None, None, 100)         18000     \n",
      "                                                                 \n",
      " dense_26 (Dense)            (None, None, 79)          7979      \n",
      "                                                                 \n",
      "=================================================================\n",
      "Total params: 25,979\n",
      "Trainable params: 25,979\n",
      "Non-trainable params: 0\n",
      "_________________________________________________________________\n"
     ]
    }
   ],
   "source": [
    "##Simple RNN model\n",
    "dim = 100\n",
    "n_epochs = 200\n",
    "NotesModel = Sequential()\n",
    "NotesModel.add(SimpleRNN(units=dim, input_shape=(None,n_Notes), stateful=True, return_sequences=True, batch_input_shape=(n_batch, seq_length, n_Notes)))\n",
    "NotesModel.add(Dense(units=n_Notes, activation='softmax'))\n",
    "NotesModel.summary()"
   ]
  },
  {
   "cell_type": "code",
   "execution_count": 102,
   "id": "36ba42b6",
   "metadata": {},
   "outputs": [
    {
     "name": "stdout",
     "output_type": "stream",
     "text": [
      "Epoch 1/200\n",
      "23/23 [==============================] - 1s 5ms/step - loss: 2.4024 - accuracy: 0.3777\n",
      "Epoch 2/200\n",
      "23/23 [==============================] - 0s 4ms/step - loss: 1.3947 - accuracy: 0.5884\n",
      "Epoch 3/200\n",
      "23/23 [==============================] - 0s 5ms/step - loss: 0.9891 - accuracy: 0.6974\n",
      "Epoch 4/200\n",
      "23/23 [==============================] - 0s 5ms/step - loss: 0.7320 - accuracy: 0.7742\n",
      "Epoch 5/200\n",
      "23/23 [==============================] - 0s 5ms/step - loss: 0.6148 - accuracy: 0.7954\n",
      "Epoch 6/200\n",
      "23/23 [==============================] - 0s 5ms/step - loss: 0.5372 - accuracy: 0.8223\n",
      "Epoch 7/200\n",
      "23/23 [==============================] - 0s 4ms/step - loss: 0.4709 - accuracy: 0.8388\n",
      "Epoch 8/200\n",
      "23/23 [==============================] - 0s 5ms/step - loss: 0.4233 - accuracy: 0.8571\n",
      "Epoch 9/200\n",
      "23/23 [==============================] - 0s 4ms/step - loss: 0.4171 - accuracy: 0.8539\n",
      "Epoch 10/200\n",
      "23/23 [==============================] - 0s 5ms/step - loss: 0.4022 - accuracy: 0.8583\n",
      "Epoch 11/200\n",
      "23/23 [==============================] - 0s 5ms/step - loss: 0.3817 - accuracy: 0.8594\n",
      "Epoch 12/200\n",
      "23/23 [==============================] - 0s 4ms/step - loss: 0.3660 - accuracy: 0.8687\n",
      "Epoch 13/200\n",
      "23/23 [==============================] - 0s 5ms/step - loss: 0.3515 - accuracy: 0.8722\n",
      "Epoch 14/200\n",
      "23/23 [==============================] - 0s 5ms/step - loss: 0.3196 - accuracy: 0.8812\n",
      "Epoch 15/200\n",
      "23/23 [==============================] - 0s 5ms/step - loss: 0.3199 - accuracy: 0.8823\n",
      "Epoch 16/200\n",
      "23/23 [==============================] - 0s 5ms/step - loss: 0.3002 - accuracy: 0.8852\n",
      "Epoch 17/200\n",
      "23/23 [==============================] - 0s 5ms/step - loss: 0.3025 - accuracy: 0.8826\n",
      "Epoch 18/200\n",
      "23/23 [==============================] - 0s 5ms/step - loss: 0.2885 - accuracy: 0.8893\n",
      "Epoch 19/200\n",
      "23/23 [==============================] - 0s 4ms/step - loss: 0.2904 - accuracy: 0.8864\n",
      "Epoch 20/200\n",
      "23/23 [==============================] - 0s 5ms/step - loss: 0.2862 - accuracy: 0.8890\n",
      "Epoch 21/200\n",
      "23/23 [==============================] - 0s 5ms/step - loss: 0.2822 - accuracy: 0.8861\n",
      "Epoch 22/200\n",
      "23/23 [==============================] - 0s 5ms/step - loss: 0.2716 - accuracy: 0.8959\n",
      "Epoch 23/200\n",
      "23/23 [==============================] - 0s 5ms/step - loss: 0.2682 - accuracy: 0.8933\n",
      "Epoch 24/200\n",
      "23/23 [==============================] - 0s 5ms/step - loss: 0.2563 - accuracy: 0.8997\n",
      "Epoch 25/200\n",
      "23/23 [==============================] - 0s 5ms/step - loss: 0.2506 - accuracy: 0.8997\n",
      "Epoch 26/200\n",
      "23/23 [==============================] - 0s 5ms/step - loss: 0.2617 - accuracy: 0.8968\n",
      "Epoch 27/200\n",
      "23/23 [==============================] - 0s 5ms/step - loss: 0.2645 - accuracy: 0.8939\n",
      "Epoch 28/200\n",
      "23/23 [==============================] - 0s 5ms/step - loss: 0.2786 - accuracy: 0.8896\n",
      "Epoch 29/200\n",
      "23/23 [==============================] - 0s 5ms/step - loss: 0.2837 - accuracy: 0.8901\n",
      "Epoch 30/200\n",
      "23/23 [==============================] - 0s 5ms/step - loss: 0.2787 - accuracy: 0.8904\n",
      "Epoch 31/200\n",
      "23/23 [==============================] - 0s 4ms/step - loss: 0.3111 - accuracy: 0.8820\n",
      "Epoch 32/200\n",
      "23/23 [==============================] - 0s 5ms/step - loss: 0.2954 - accuracy: 0.8861\n",
      "Epoch 33/200\n",
      "23/23 [==============================] - 0s 5ms/step - loss: 0.2860 - accuracy: 0.8867\n",
      "Epoch 34/200\n",
      "23/23 [==============================] - 0s 5ms/step - loss: 0.2774 - accuracy: 0.8901\n",
      "Epoch 35/200\n",
      "23/23 [==============================] - 0s 5ms/step - loss: 0.2745 - accuracy: 0.8916\n",
      "Epoch 36/200\n",
      "23/23 [==============================] - 0s 5ms/step - loss: 0.2663 - accuracy: 0.8957\n",
      "Epoch 37/200\n",
      "23/23 [==============================] - 0s 5ms/step - loss: 0.2725 - accuracy: 0.8901\n",
      "Epoch 38/200\n",
      "23/23 [==============================] - 0s 5ms/step - loss: 0.2662 - accuracy: 0.8907\n",
      "Epoch 39/200\n",
      "23/23 [==============================] - 0s 5ms/step - loss: 0.2545 - accuracy: 0.8957\n",
      "Epoch 40/200\n",
      "23/23 [==============================] - 0s 5ms/step - loss: 0.2579 - accuracy: 0.8994\n",
      "Epoch 41/200\n",
      "23/23 [==============================] - 0s 5ms/step - loss: 0.2629 - accuracy: 0.8994\n",
      "Epoch 42/200\n",
      "23/23 [==============================] - 0s 5ms/step - loss: 0.2402 - accuracy: 0.9012\n",
      "Epoch 43/200\n",
      "23/23 [==============================] - 0s 5ms/step - loss: 0.2640 - accuracy: 0.8933\n",
      "Epoch 44/200\n",
      "23/23 [==============================] - 0s 5ms/step - loss: 0.2917 - accuracy: 0.8861\n",
      "Epoch 45/200\n",
      "23/23 [==============================] - 0s 5ms/step - loss: 0.4431 - accuracy: 0.8383\n",
      "Epoch 46/200\n",
      "23/23 [==============================] - 0s 5ms/step - loss: 0.6071 - accuracy: 0.7991\n",
      "Epoch 47/200\n",
      "23/23 [==============================] - 0s 5ms/step - loss: 0.6246 - accuracy: 0.7826\n",
      "Epoch 48/200\n",
      "23/23 [==============================] - 0s 5ms/step - loss: 0.7376 - accuracy: 0.7559\n",
      "Epoch 49/200\n",
      "23/23 [==============================] - 0s 5ms/step - loss: 0.7813 - accuracy: 0.7397\n",
      "Epoch 50/200\n",
      "23/23 [==============================] - 0s 5ms/step - loss: 0.8440 - accuracy: 0.7220\n",
      "Epoch 51/200\n",
      "23/23 [==============================] - 0s 5ms/step - loss: 0.8723 - accuracy: 0.7145\n",
      "Epoch 52/200\n",
      "23/23 [==============================] - 0s 5ms/step - loss: 0.9818 - accuracy: 0.7006\n",
      "Epoch 53/200\n",
      "23/23 [==============================] - 0s 5ms/step - loss: 1.0624 - accuracy: 0.6649\n",
      "Epoch 54/200\n",
      "23/23 [==============================] - 0s 5ms/step - loss: 1.0693 - accuracy: 0.6701\n",
      "Epoch 55/200\n",
      "23/23 [==============================] - 0s 5ms/step - loss: 1.1637 - accuracy: 0.6417\n",
      "Epoch 56/200\n",
      "23/23 [==============================] - 0s 5ms/step - loss: 1.3404 - accuracy: 0.5901\n",
      "Epoch 57/200\n",
      "23/23 [==============================] - 0s 5ms/step - loss: 1.2181 - accuracy: 0.6214\n",
      "Epoch 58/200\n",
      "23/23 [==============================] - 0s 5ms/step - loss: 1.1537 - accuracy: 0.6223\n",
      "Epoch 59/200\n",
      "23/23 [==============================] - 0s 5ms/step - loss: 1.0621 - accuracy: 0.6635\n",
      "Epoch 60/200\n",
      "23/23 [==============================] - 0s 5ms/step - loss: 1.0248 - accuracy: 0.6730\n",
      "Epoch 61/200\n",
      "23/23 [==============================] - 0s 5ms/step - loss: 1.0710 - accuracy: 0.6652\n",
      "Epoch 62/200\n",
      "23/23 [==============================] - 0s 5ms/step - loss: 1.1023 - accuracy: 0.6403\n",
      "Epoch 63/200\n",
      "23/23 [==============================] - 0s 5ms/step - loss: 1.0288 - accuracy: 0.6620\n",
      "Epoch 64/200\n",
      "23/23 [==============================] - 0s 5ms/step - loss: 1.0180 - accuracy: 0.6643\n",
      "Epoch 65/200\n",
      "23/23 [==============================] - 0s 5ms/step - loss: 0.9350 - accuracy: 0.6719\n",
      "Epoch 66/200\n",
      "23/23 [==============================] - 0s 5ms/step - loss: 0.8693 - accuracy: 0.7113\n",
      "Epoch 67/200\n",
      "23/23 [==============================] - 0s 5ms/step - loss: 0.8097 - accuracy: 0.7217\n",
      "Epoch 68/200\n",
      "23/23 [==============================] - 0s 5ms/step - loss: 0.8001 - accuracy: 0.7272\n",
      "Epoch 69/200\n",
      "23/23 [==============================] - 0s 5ms/step - loss: 0.7134 - accuracy: 0.7525\n",
      "Epoch 70/200\n",
      "23/23 [==============================] - 0s 5ms/step - loss: 0.6817 - accuracy: 0.7652\n",
      "Epoch 71/200\n",
      "23/23 [==============================] - 0s 5ms/step - loss: 0.7583 - accuracy: 0.7330\n",
      "Epoch 72/200\n",
      "23/23 [==============================] - 0s 5ms/step - loss: 0.6637 - accuracy: 0.7649\n",
      "Epoch 73/200\n",
      "23/23 [==============================] - 0s 5ms/step - loss: 0.6144 - accuracy: 0.7864\n",
      "Epoch 74/200\n",
      "23/23 [==============================] - 0s 5ms/step - loss: 0.6082 - accuracy: 0.7771\n",
      "Epoch 75/200\n",
      "23/23 [==============================] - 0s 5ms/step - loss: 0.5668 - accuracy: 0.7939\n",
      "Epoch 76/200\n",
      "23/23 [==============================] - 0s 5ms/step - loss: 0.5812 - accuracy: 0.7928\n",
      "Epoch 77/200\n",
      "23/23 [==============================] - 0s 5ms/step - loss: 0.5518 - accuracy: 0.8014\n",
      "Epoch 78/200\n",
      "23/23 [==============================] - 0s 4ms/step - loss: 0.5392 - accuracy: 0.8000\n",
      "Epoch 79/200\n",
      "23/23 [==============================] - 0s 4ms/step - loss: 0.5087 - accuracy: 0.8128\n",
      "Epoch 80/200\n",
      "23/23 [==============================] - 0s 5ms/step - loss: 0.4830 - accuracy: 0.8180\n",
      "Epoch 81/200\n",
      "23/23 [==============================] - 0s 5ms/step - loss: 0.4617 - accuracy: 0.8293\n",
      "Epoch 82/200\n",
      "23/23 [==============================] - 0s 5ms/step - loss: 0.4548 - accuracy: 0.8267\n",
      "Epoch 83/200\n"
     ]
    },
    {
     "name": "stdout",
     "output_type": "stream",
     "text": [
      "23/23 [==============================] - 0s 5ms/step - loss: 0.4314 - accuracy: 0.8397\n",
      "Epoch 84/200\n",
      "23/23 [==============================] - 0s 5ms/step - loss: 0.4085 - accuracy: 0.8470\n",
      "Epoch 85/200\n",
      "23/23 [==============================] - 0s 4ms/step - loss: 0.3972 - accuracy: 0.8484\n",
      "Epoch 86/200\n",
      "23/23 [==============================] - 0s 5ms/step - loss: 0.3788 - accuracy: 0.8557\n",
      "Epoch 87/200\n",
      "23/23 [==============================] - 0s 4ms/step - loss: 0.3702 - accuracy: 0.8577\n",
      "Epoch 88/200\n",
      "23/23 [==============================] - 0s 4ms/step - loss: 0.3737 - accuracy: 0.8594\n",
      "Epoch 89/200\n",
      "23/23 [==============================] - 0s 5ms/step - loss: 0.3812 - accuracy: 0.8554\n",
      "Epoch 90/200\n",
      "23/23 [==============================] - 0s 4ms/step - loss: 0.4117 - accuracy: 0.8432\n",
      "Epoch 91/200\n",
      "23/23 [==============================] - 0s 5ms/step - loss: 0.3988 - accuracy: 0.8455\n",
      "Epoch 92/200\n",
      "23/23 [==============================] - 0s 4ms/step - loss: 0.3760 - accuracy: 0.8504\n",
      "Epoch 93/200\n",
      "23/23 [==============================] - 0s 4ms/step - loss: 0.3768 - accuracy: 0.8554\n",
      "Epoch 94/200\n",
      "23/23 [==============================] - 0s 5ms/step - loss: 0.3599 - accuracy: 0.8588\n",
      "Epoch 95/200\n",
      "23/23 [==============================] - 0s 4ms/step - loss: 0.3697 - accuracy: 0.8528\n",
      "Epoch 96/200\n",
      "23/23 [==============================] - 0s 5ms/step - loss: 0.4997 - accuracy: 0.8043\n",
      "Epoch 97/200\n",
      "23/23 [==============================] - 0s 5ms/step - loss: 0.6754 - accuracy: 0.7710\n",
      "Epoch 98/200\n",
      "23/23 [==============================] - 0s 5ms/step - loss: 0.9151 - accuracy: 0.7223\n",
      "Epoch 99/200\n",
      "23/23 [==============================] - 0s 4ms/step - loss: 1.8959 - accuracy: 0.5180\n",
      "Epoch 100/200\n",
      "23/23 [==============================] - 0s 4ms/step - loss: 2.0747 - accuracy: 0.4632\n",
      "Epoch 101/200\n",
      "23/23 [==============================] - 0s 4ms/step - loss: 1.9730 - accuracy: 0.4470\n",
      "Epoch 102/200\n",
      "23/23 [==============================] - 0s 4ms/step - loss: 1.7874 - accuracy: 0.4806\n",
      "Epoch 103/200\n",
      "23/23 [==============================] - 0s 5ms/step - loss: 1.5492 - accuracy: 0.5209\n",
      "Epoch 104/200\n",
      "23/23 [==============================] - 0s 4ms/step - loss: 1.5532 - accuracy: 0.5194\n",
      "Epoch 105/200\n",
      "23/23 [==============================] - 0s 4ms/step - loss: 1.5270 - accuracy: 0.5255\n",
      "Epoch 106/200\n",
      "23/23 [==============================] - 0s 5ms/step - loss: 1.4536 - accuracy: 0.5426\n",
      "Epoch 107/200\n",
      "23/23 [==============================] - 0s 5ms/step - loss: 1.3886 - accuracy: 0.5510\n",
      "Epoch 108/200\n",
      "23/23 [==============================] - 0s 4ms/step - loss: 1.4282 - accuracy: 0.5406\n",
      "Epoch 109/200\n",
      "23/23 [==============================] - 0s 5ms/step - loss: 1.4013 - accuracy: 0.5403\n",
      "Epoch 110/200\n",
      "23/23 [==============================] - 0s 5ms/step - loss: 1.2500 - accuracy: 0.5936\n",
      "Epoch 111/200\n",
      "23/23 [==============================] - 0s 5ms/step - loss: 1.1921 - accuracy: 0.6136\n",
      "Epoch 112/200\n",
      "23/23 [==============================] - 0s 5ms/step - loss: 1.1261 - accuracy: 0.6304\n",
      "Epoch 113/200\n",
      "23/23 [==============================] - 0s 5ms/step - loss: 1.0917 - accuracy: 0.6388\n",
      "Epoch 114/200\n",
      "23/23 [==============================] - 0s 4ms/step - loss: 1.0977 - accuracy: 0.6452\n",
      "Epoch 115/200\n",
      "23/23 [==============================] - 0s 5ms/step - loss: 1.0730 - accuracy: 0.6443\n",
      "Epoch 116/200\n",
      "23/23 [==============================] - 0s 5ms/step - loss: 1.1147 - accuracy: 0.6301\n",
      "Epoch 117/200\n",
      "23/23 [==============================] - 0s 5ms/step - loss: 1.0647 - accuracy: 0.6409\n",
      "Epoch 118/200\n",
      "23/23 [==============================] - 0s 5ms/step - loss: 0.9607 - accuracy: 0.6794\n",
      "Epoch 119/200\n",
      "23/23 [==============================] - 0s 4ms/step - loss: 0.9261 - accuracy: 0.6870\n",
      "Epoch 120/200\n",
      "23/23 [==============================] - 0s 5ms/step - loss: 0.9420 - accuracy: 0.6814\n",
      "Epoch 121/200\n",
      "23/23 [==============================] - 0s 5ms/step - loss: 0.8799 - accuracy: 0.7052\n",
      "Epoch 122/200\n",
      "23/23 [==============================] - 0s 5ms/step - loss: 0.8487 - accuracy: 0.7052\n",
      "Epoch 123/200\n",
      "23/23 [==============================] - 0s 4ms/step - loss: 0.8785 - accuracy: 0.6974\n",
      "Epoch 124/200\n",
      "23/23 [==============================] - 0s 5ms/step - loss: 0.8709 - accuracy: 0.6983\n",
      "Epoch 125/200\n",
      "23/23 [==============================] - 0s 5ms/step - loss: 0.8794 - accuracy: 0.6913\n",
      "Epoch 126/200\n",
      "23/23 [==============================] - 0s 5ms/step - loss: 0.8201 - accuracy: 0.7125\n",
      "Epoch 127/200\n",
      "23/23 [==============================] - 0s 4ms/step - loss: 0.8214 - accuracy: 0.7096\n",
      "Epoch 128/200\n",
      "23/23 [==============================] - 0s 5ms/step - loss: 0.7894 - accuracy: 0.7264\n",
      "Epoch 129/200\n",
      "23/23 [==============================] - 0s 5ms/step - loss: 0.7991 - accuracy: 0.7214\n",
      "Epoch 130/200\n",
      "23/23 [==============================] - 0s 5ms/step - loss: 0.8378 - accuracy: 0.7130\n",
      "Epoch 131/200\n",
      "23/23 [==============================] - 0s 5ms/step - loss: 0.8217 - accuracy: 0.7232\n",
      "Epoch 132/200\n",
      "23/23 [==============================] - 0s 5ms/step - loss: 0.7743 - accuracy: 0.7243\n",
      "Epoch 133/200\n",
      "23/23 [==============================] - 0s 5ms/step - loss: 0.7727 - accuracy: 0.7272\n",
      "Epoch 134/200\n",
      "23/23 [==============================] - 0s 5ms/step - loss: 0.7738 - accuracy: 0.7328\n",
      "Epoch 135/200\n",
      "23/23 [==============================] - 0s 5ms/step - loss: 0.7899 - accuracy: 0.7252\n",
      "Epoch 136/200\n",
      "23/23 [==============================] - 0s 5ms/step - loss: 0.7186 - accuracy: 0.7484\n",
      "Epoch 137/200\n",
      "23/23 [==============================] - 0s 5ms/step - loss: 0.7074 - accuracy: 0.7501\n",
      "Epoch 138/200\n",
      "23/23 [==============================] - 0s 5ms/step - loss: 0.6687 - accuracy: 0.7603\n",
      "Epoch 139/200\n",
      "23/23 [==============================] - 0s 5ms/step - loss: 0.6292 - accuracy: 0.7861\n",
      "Epoch 140/200\n",
      "23/23 [==============================] - 0s 5ms/step - loss: 0.6075 - accuracy: 0.7820\n",
      "Epoch 141/200\n",
      "23/23 [==============================] - 0s 5ms/step - loss: 0.6104 - accuracy: 0.7774\n",
      "Epoch 142/200\n",
      "23/23 [==============================] - 0s 4ms/step - loss: 0.5846 - accuracy: 0.7980\n",
      "Epoch 143/200\n",
      "23/23 [==============================] - 0s 5ms/step - loss: 0.5692 - accuracy: 0.8029\n",
      "Epoch 144/200\n",
      "23/23 [==============================] - 0s 5ms/step - loss: 0.5503 - accuracy: 0.8043\n",
      "Epoch 145/200\n",
      "23/23 [==============================] - 0s 5ms/step - loss: 0.5388 - accuracy: 0.8043\n",
      "Epoch 146/200\n",
      "23/23 [==============================] - 0s 5ms/step - loss: 0.5367 - accuracy: 0.8087\n",
      "Epoch 147/200\n",
      "23/23 [==============================] - 0s 5ms/step - loss: 0.5503 - accuracy: 0.8067\n",
      "Epoch 148/200\n",
      "23/23 [==============================] - 0s 4ms/step - loss: 0.5819 - accuracy: 0.7945\n",
      "Epoch 149/200\n",
      "23/23 [==============================] - 0s 5ms/step - loss: 0.5464 - accuracy: 0.8081\n",
      "Epoch 150/200\n",
      "23/23 [==============================] - 0s 5ms/step - loss: 0.5142 - accuracy: 0.8229\n",
      "Epoch 151/200\n",
      "23/23 [==============================] - 0s 5ms/step - loss: 0.5240 - accuracy: 0.8093\n",
      "Epoch 152/200\n",
      "23/23 [==============================] - 0s 5ms/step - loss: 0.5760 - accuracy: 0.7986\n",
      "Epoch 153/200\n",
      "23/23 [==============================] - 0s 5ms/step - loss: 0.5418 - accuracy: 0.8006\n",
      "Epoch 154/200\n",
      "23/23 [==============================] - 0s 5ms/step - loss: 0.5339 - accuracy: 0.8041\n",
      "Epoch 155/200\n",
      "23/23 [==============================] - 0s 5ms/step - loss: 0.6728 - accuracy: 0.7600\n",
      "Epoch 156/200\n",
      "23/23 [==============================] - 0s 5ms/step - loss: 0.6718 - accuracy: 0.7577\n",
      "Epoch 157/200\n",
      "23/23 [==============================] - 0s 5ms/step - loss: 0.6135 - accuracy: 0.7701\n",
      "Epoch 158/200\n",
      "23/23 [==============================] - 0s 5ms/step - loss: 0.5528 - accuracy: 0.7939\n",
      "Epoch 159/200\n",
      "23/23 [==============================] - 0s 4ms/step - loss: 0.5362 - accuracy: 0.8055\n",
      "Epoch 160/200\n",
      "23/23 [==============================] - 0s 4ms/step - loss: 0.5195 - accuracy: 0.8072\n",
      "Epoch 161/200\n",
      "23/23 [==============================] - 0s 5ms/step - loss: 0.5290 - accuracy: 0.8052\n",
      "Epoch 162/200\n",
      "23/23 [==============================] - 0s 5ms/step - loss: 0.5278 - accuracy: 0.8058\n",
      "Epoch 163/200\n",
      "23/23 [==============================] - 0s 5ms/step - loss: 0.6638 - accuracy: 0.7745\n",
      "Epoch 164/200\n"
     ]
    },
    {
     "name": "stdout",
     "output_type": "stream",
     "text": [
      "23/23 [==============================] - 0s 5ms/step - loss: 0.6577 - accuracy: 0.7614\n",
      "Epoch 165/200\n",
      "23/23 [==============================] - 0s 5ms/step - loss: 0.6234 - accuracy: 0.7725\n",
      "Epoch 166/200\n",
      "23/23 [==============================] - 0s 5ms/step - loss: 0.5704 - accuracy: 0.7916\n",
      "Epoch 167/200\n",
      "23/23 [==============================] - 0s 5ms/step - loss: 0.6687 - accuracy: 0.7632\n",
      "Epoch 168/200\n",
      "23/23 [==============================] - 0s 5ms/step - loss: 0.6166 - accuracy: 0.7751\n",
      "Epoch 169/200\n",
      "23/23 [==============================] - 0s 5ms/step - loss: 0.5664 - accuracy: 0.7925\n",
      "Epoch 170/200\n",
      "23/23 [==============================] - 0s 5ms/step - loss: 0.5235 - accuracy: 0.7983\n",
      "Epoch 171/200\n",
      "23/23 [==============================] - 0s 5ms/step - loss: 0.5107 - accuracy: 0.8064\n",
      "Epoch 172/200\n",
      "23/23 [==============================] - 0s 5ms/step - loss: 0.5622 - accuracy: 0.7901\n",
      "Epoch 173/200\n",
      "23/23 [==============================] - 0s 5ms/step - loss: 0.5144 - accuracy: 0.8064\n",
      "Epoch 174/200\n",
      "23/23 [==============================] - 0s 5ms/step - loss: 0.4998 - accuracy: 0.8093\n",
      "Epoch 175/200\n",
      "23/23 [==============================] - 0s 5ms/step - loss: 0.4889 - accuracy: 0.8159\n",
      "Epoch 176/200\n",
      "23/23 [==============================] - 0s 5ms/step - loss: 0.4583 - accuracy: 0.8229\n",
      "Epoch 177/200\n",
      "23/23 [==============================] - 0s 5ms/step - loss: 0.4241 - accuracy: 0.8374\n",
      "Epoch 178/200\n",
      "23/23 [==============================] - 0s 5ms/step - loss: 0.4142 - accuracy: 0.8449\n",
      "Epoch 179/200\n",
      "23/23 [==============================] - 0s 5ms/step - loss: 0.4150 - accuracy: 0.8403\n",
      "Epoch 180/200\n",
      "23/23 [==============================] - 0s 5ms/step - loss: 0.4024 - accuracy: 0.8493\n",
      "Epoch 181/200\n",
      "23/23 [==============================] - 0s 5ms/step - loss: 0.3878 - accuracy: 0.8516\n",
      "Epoch 182/200\n",
      "23/23 [==============================] - 0s 5ms/step - loss: 0.3893 - accuracy: 0.8510\n",
      "Epoch 183/200\n",
      "23/23 [==============================] - 0s 5ms/step - loss: 0.3796 - accuracy: 0.8528\n",
      "Epoch 184/200\n",
      "23/23 [==============================] - 0s 5ms/step - loss: 0.3715 - accuracy: 0.8519\n",
      "Epoch 185/200\n",
      "23/23 [==============================] - 0s 5ms/step - loss: 0.3633 - accuracy: 0.8629\n",
      "Epoch 186/200\n",
      "23/23 [==============================] - 0s 5ms/step - loss: 0.3536 - accuracy: 0.8600\n",
      "Epoch 187/200\n",
      "23/23 [==============================] - 0s 5ms/step - loss: 0.3670 - accuracy: 0.8545\n",
      "Epoch 188/200\n",
      "23/23 [==============================] - 0s 5ms/step - loss: 0.3707 - accuracy: 0.8612\n",
      "Epoch 189/200\n",
      "23/23 [==============================] - 0s 5ms/step - loss: 0.3696 - accuracy: 0.8554\n",
      "Epoch 190/200\n",
      "23/23 [==============================] - 0s 5ms/step - loss: 0.3789 - accuracy: 0.8536\n",
      "Epoch 191/200\n",
      "23/23 [==============================] - 0s 5ms/step - loss: 0.4011 - accuracy: 0.8458\n",
      "Epoch 192/200\n",
      "23/23 [==============================] - 0s 5ms/step - loss: 0.3945 - accuracy: 0.8446\n",
      "Epoch 193/200\n",
      "23/23 [==============================] - 0s 5ms/step - loss: 0.3845 - accuracy: 0.8507\n",
      "Epoch 194/200\n",
      "23/23 [==============================] - 0s 5ms/step - loss: 0.3857 - accuracy: 0.8461\n",
      "Epoch 195/200\n",
      "23/23 [==============================] - 0s 5ms/step - loss: 0.3592 - accuracy: 0.8568\n",
      "Epoch 196/200\n",
      "23/23 [==============================] - 0s 5ms/step - loss: 0.3457 - accuracy: 0.8699\n",
      "Epoch 197/200\n",
      "23/23 [==============================] - 0s 5ms/step - loss: 0.3517 - accuracy: 0.8603\n",
      "Epoch 198/200\n",
      "23/23 [==============================] - 0s 6ms/step - loss: 0.3315 - accuracy: 0.8661\n",
      "Epoch 199/200\n",
      "23/23 [==============================] - 0s 5ms/step - loss: 0.3262 - accuracy: 0.8733\n",
      "Epoch 200/200\n",
      "23/23 [==============================] - 0s 5ms/step - loss: 0.3552 - accuracy: 0.8591\n"
     ]
    },
    {
     "data": {
      "text/plain": [
       "<keras.callbacks.History at 0x2255185a520>"
      ]
     },
     "execution_count": 102,
     "metadata": {},
     "output_type": "execute_result"
    }
   ],
   "source": [
    "NotesModel.compile(optimizer=optimizers.Adam(learning_rate=1e-2), loss='categorical_crossentropy', metrics=['accuracy'])\n",
    "NotesModel.fit(X_train_BS, y_train_BS, epochs=n_epochs, batch_size=n_batch, shuffle=False)\n"
   ]
  },
  {
   "cell_type": "code",
   "execution_count": 103,
   "id": "04c5371e",
   "metadata": {},
   "outputs": [
    {
     "data": {
      "text/plain": [
       "[<matplotlib.lines.Line2D at 0x225518bf610>]"
      ]
     },
     "execution_count": 103,
     "metadata": {},
     "output_type": "execute_result"
    },
    {
     "data": {
      "image/png": "[encoded data removed]",
      "text/plain": [
       "<Figure size 640x480 with 1 Axes>"
      ]
     },
     "metadata": {},
     "output_type": "display_data"
    },
    {
     "data": {
      "image/png": "[encoded data removed]",
      "text/plain": [
       "<Figure size 640x480 with 1 Axes>"
      ]
     },
     "metadata": {},
     "output_type": "display_data"
    }
   ],
   "source": [
    "loss = NotesModel.history.history['loss']\n",
    "accuracy = NotesModel.history.history['accuracy']\n",
    "plt.figure()\n",
    "plt.plot(range(len(loss)), loss)\n",
    "plt.figure()\n",
    "plt.plot(range(len(accuracy)), accuracy)"
   ]
  },
  {
   "cell_type": "code",
   "execution_count": 6,
   "id": "3dc884ae",
   "metadata": {},
   "outputs": [
    {
     "name": "stdout",
     "output_type": "stream",
     "text": [
      "adl-piano-midi\\Classical\\Classical\\Alexander Borodin\\Nocturne.mid\n",
      "adl-piano-midi\\Classical\\Classical\\Antonio Salieri\\Invention.mid\n",
      "adl-piano-midi\\Classical\\Classical\\Bela Bartok\\Andante.mid\n",
      "adl-piano-midi\\Classical\\Classical\\Bela Bartok\\Romanian Folk Dance.mid\n",
      "adl-piano-midi\\Classical\\Classical\\Claude Debussy\\Clair De Lune.mid\n",
      "adl-piano-midi\\Classical\\Classical\\Franz Schubert\\Impromptu in C-Moll.mid\n",
      "adl-piano-midi\\Classical\\Classical\\Franz Schubert\\Impromptu in Ges-dur.mid\n",
      "adl-piano-midi\\Classical\\Classical\\Franz Schubert\\Trois Marches militaires 3.mid\n",
      "adl-piano-midi\\Classical\\Classical\\Frederic Chopin\\Prelude Op 28 No7.mid\n",
      "adl-piano-midi\\Classical\\Classical\\Giacomo Puccini\\O Mio Babibino Caro.mid\n",
      "adl-piano-midi\\Classical\\Classical\\Jean-Baptiste Lully\\Minuet.mid\n",
      "adl-piano-midi\\Classical\\Classical\\Johann Sebastian Bach\\Aria, BWV 515.mid\n",
      "adl-piano-midi\\Classical\\Classical\\Johann Sebastian Bach\\Aus meines Herzens Grunde (Chorale 1).mid\n",
      "adl-piano-midi\\Classical\\Classical\\Johann Sebastian Bach\\English Suite 3 Gavotte.mid\n",
      "adl-piano-midi\\Classical\\Classical\\Johann Sebastian Bach\\Gib dich zufrieden und sei stille.mid\n",
      "adl-piano-midi\\Classical\\Classical\\Johann Sebastian Bach\\Invention 1, BWV 772.mid\n",
      "adl-piano-midi\\Classical\\Classical\\Johann Sebastian Bach\\Invention 5.mid\n",
      "adl-piano-midi\\Classical\\Classical\\Johann Sebastian Bach\\Invention 6.mid\n",
      "adl-piano-midi\\Classical\\Classical\\Johann Sebastian Bach\\Invention No 8.mid\n",
      "adl-piano-midi\\Classical\\Classical\\Johann Sebastian Bach\\Sleepers, Wake.mid\n",
      "adl-piano-midi\\Classical\\Classical\\Ludwig van Beethoven\\Moonlight Sonata 1st movement.mid\n",
      "adl-piano-midi\\Classical\\Classical\\Ludwig van Beethoven\\Moonlight Sonata 3rd Movement.mid\n",
      "adl-piano-midi\\Classical\\Classical\\Ludwig van Beethoven\\Sonata for Piano with Horn, Op 17.mid\n",
      "adl-piano-midi\\Classical\\Classical\\Pyotr Ilyich Tchaikovsky\\July - Song of the Reaper.mid\n",
      "adl-piano-midi\\Classical\\Classical\\Pyotr Ilyich Tchaikovsky\\March - Song of the Lark.mid\n",
      "adl-piano-midi\\Classical\\Classical\\Pyotr Ilyich Tchaikovsky\\Nutcracker Minature Overture.mid\n",
      "adl-piano-midi\\Classical\\Classical\\Richard Wagner\\Bridal March.mid\n",
      "adl-piano-midi\\Classical\\Classical\\Richard Wagner\\Ride of the Valkyries.mid\n",
      "adl-piano-midi\\Classical\\Classical\\Robert Schumann\\Curious Story.mid\n",
      "adl-piano-midi\\Classical\\Classical\\Wolfgang Amadeus Mozart\\Clarinet Concerto Theme.mid\n",
      "adl-piano-midi\\Classical\\Classical\\Wolfgang Amadeus Mozart\\Minuet from Don Juan.mid\n",
      "adl-piano-midi\\Classical\\Classical\\Wolfgang Amadeus Mozart\\Theme from C K467.mid\n",
      "adl-piano-midi\\Classical\\German Baroque\\Johann Krieger\\Minuet.mid\n",
      "adl-piano-midi\\Classical\\Late Romantic Era\\Charles-Valentin Alkan\\Prélude.mid\n",
      "adl-piano-midi\\Classical\\Late Romantic Era\\Charles-Valentin Alkan\\Saltarelle.mid\n",
      "adl-piano-midi\\Classical\\Neo-Classical\\Ludovico Einaudi\\Divenire.mid\n",
      "adl-piano-midi\\Classical\\Neo-Classical\\Yiruma\\Rivers Flow in You.mid\n",
      "adl-piano-midi\\Classical\\Operatic Pop\\Yanni\\Hijo de la Luna.mid\n",
      "adl-piano-midi\\Classical\\Post-Romantic Era\\Vladimir Rebikov\\The Bear.mid\n",
      "Number of channels  : 12 \n",
      "Number of notes     : 105 \n",
      "Number of velocities: 128 \n",
      "Number of time ticks: 1168\n"
     ]
    }
   ],
   "source": [
    "dataset = pp.load_dataset(\"adl-piano-midi\")\n",
    "ClassicSongs = pp.files_to_songs(dataset[\"Classical\"])\n",
    "\n",
    "channel_to_ind, ind_to_channel, note_to_ind, ind_to_note, velocity_to_ind, ind_to_velocity, tick_to_ind, ind_to_tick = pp.dicts_from_songs(ClassicSongs)\n",
    "\n",
    "n_Channels = len(channel_to_ind)\n",
    "n_Notes = len(note_to_ind)\n",
    "n_Velocities = len(velocity_to_ind)\n",
    "n_Ticks = len(tick_to_ind)\n",
    "\n",
    "print(\"Number of channels  :\",n_Channels,\"\\nNumber of notes     :\",n_Notes,\"\\nNumber of velocities:\",n_Velocities,\"\\nNumber of time ticks:\",n_Ticks)"
   ]
  },
  {
   "cell_type": "code",
   "execution_count": 20,
   "id": "fe7f4aa6",
   "metadata": {},
   "outputs": [
    {
     "name": "stdout",
     "output_type": "stream",
     "text": [
      "(73700, 30, 105)\n"
     ]
    }
   ],
   "source": [
    "seq_length = 30\n",
    "n_batch = 100\n",
    "AllNotes = np.array([])\n",
    "for song in ReggaeSongs.values():\n",
    "    AllNotes = np.append(AllNotes,song[:,1])\n",
    "OneHotNotes = pp.one_hot_encode(note_to_ind,AllNotes)\n",
    "X_train, y_train = pp.label_sequences(OneHotNotes,seq_length,n_batch)\n",
    "print(X_train.shape)"
   ]
  },
  {
   "cell_type": "code",
   "execution_count": 21,
   "id": "fe7e614f",
   "metadata": {},
   "outputs": [
    {
     "name": "stdout",
     "output_type": "stream",
     "text": [
      "Model: \"sequential_4\"\n",
      "_________________________________________________________________\n",
      " Layer (type)                Output Shape              Param #   \n",
      "=================================================================\n",
      " simple_rnn_4 (SimpleRNN)    (100, 30, 150)            38400     \n",
      "                                                                 \n",
      " dense_4 (Dense)             (100, 30, 105)            15855     \n",
      "                                                                 \n",
      "=================================================================\n",
      "Total params: 54,255\n",
      "Trainable params: 54,255\n",
      "Non-trainable params: 0\n",
      "_________________________________________________________________\n"
     ]
    }
   ],
   "source": [
    "dim = 150\n",
    "n_epochs = 5\n",
    "NotesModel = Sequential()\n",
    "NotesModel.add(SimpleRNN(units=dim, input_shape=(None,n_Notes), return_sequences=True, batch_input_shape=(n_batch, seq_length, n_Notes)))\n",
    "NotesModel.add(Dense(units=n_Notes, activation='softmax'))\n",
    "NotesModel.summary()"
   ]
  },
  {
   "cell_type": "code",
   "execution_count": 22,
   "id": "9048b61d",
   "metadata": {},
   "outputs": [
    {
     "name": "stdout",
     "output_type": "stream",
     "text": [
      "Epoch 1/5\n",
      "737/737 [==============================] - 22s 25ms/step - loss: 3.3651 - accuracy: 0.1329\n",
      "Epoch 2/5\n",
      "737/737 [==============================] - 18s 25ms/step - loss: 3.0517 - accuracy: 0.1860\n",
      "Epoch 3/5\n",
      "737/737 [==============================] - 18s 24ms/step - loss: 2.9914 - accuracy: 0.1991\n",
      "Epoch 4/5\n",
      "737/737 [==============================] - 18s 24ms/step - loss: 2.9548 - accuracy: 0.2066\n",
      "Epoch 5/5\n",
      "737/737 [==============================] - 18s 25ms/step - loss: 2.9279 - accuracy: 0.2118\n"
     ]
    },
    {
     "data": {
      "text/plain": [
       "<keras.callbacks.History at 0x21c266b2550>"
      ]
     },
     "execution_count": 22,
     "metadata": {},
     "output_type": "execute_result"
    }
   ],
   "source": [
    "NotesModel.compile(optimizer=optimizers.Adam(), loss='categorical_crossentropy', metrics=['accuracy'])\n",
    "NotesModel.fit(X_train, y_train, epochs=n_epochs, batch_size=n_batch)"
   ]
  },
  {
   "cell_type": "code",
   "execution_count": 23,
   "id": "69ca86d1",
   "metadata": {},
   "outputs": [
    {
     "data": {
      "text/plain": [
       "[<matplotlib.lines.Line2D at 0x21d09324760>]"
      ]
     },
     "execution_count": 23,
     "metadata": {},
     "output_type": "execute_result"
    },
    {
     "data": {
      "image/png": "[encoded data removed]",
      "text/plain": [
       "<Figure size 640x480 with 1 Axes>"
      ]
     },
     "metadata": {},
     "output_type": "display_data"
    },
    {
     "data": {
      "image/png": "[encoded data removed]",
      "text/plain": [
       "<Figure size 640x480 with 1 Axes>"
      ]
     },
     "metadata": {},
     "output_type": "display_data"
    }
   ],
   "source": [
    "loss = NotesModel.history.history['loss']\n",
    "accuracy = NotesModel.history.history['accuracy']\n",
    "plt.figure()\n",
    "plt.plot(range(len(loss)), loss)\n",
    "plt.figure()\n",
    "plt.plot(range(len(accuracy)), accuracy)"
   ]
  },
  {
   "cell_type": "code",
   "execution_count": null,
   "id": "f4f13145",
   "metadata": {},
   "outputs": [],
   "source": []
  }
 ],
 "metadata": {
  "kernelspec": {
   "display_name": "Python 3 (ipykernel)",
   "language": "python",
   "name": "python3"
  },
  "language_info": {
   "codemirror_mode": {
    "name": "ipython",
    "version": 3
   },
   "file_extension": ".py",
   "mimetype": "text/x-python",
   "name": "python",
   "nbconvert_exporter": "python",
   "pygments_lexer": "ipython3",
   "version": "3.9.13"
  }
 },
 "nbformat": 4,
 "nbformat_minor": 5
}
