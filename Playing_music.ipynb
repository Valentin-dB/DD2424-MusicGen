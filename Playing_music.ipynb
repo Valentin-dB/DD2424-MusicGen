{
 "cells": [
  {
   "cell_type": "markdown",
   "metadata": {},
   "source": [
    "Playing musics from models"
   ]
  },
  {
   "cell_type": "code",
   "execution_count": 1,
   "metadata": {},
   "outputs": [],
   "source": [
    "from keras.models import Model, load_model\n",
    "import numpy as np\n",
    "import utils as ut\n",
    "import PreProcessor as pp\n",
    "from mido import Message, MetaMessage, MidiFile, MidiTrack, bpm2tempo, second2tick"
   ]
  },
  {
   "cell_type": "code",
   "execution_count": 2,
   "metadata": {},
   "outputs": [
    {
     "name": "stdout",
     "output_type": "stream",
     "text": [
      "Couldn't load : C:/Users/mxrin/OneDrive/Documents/KTH_2/DD2424/Projet/DD2424-MusicGen/adl-piano-midi\\adl-piano-midi\\Classical\\Classical\\Alexander Borodin\\Nocturne.mid\n",
      "Couldn't load : C:/Users/mxrin/OneDrive/Documents/KTH_2/DD2424/Projet/DD2424-MusicGen/adl-piano-midi\\adl-piano-midi\\Classical\\Classical\\Antonio Salieri\\Invention.mid\n",
      "Couldn't load : C:/Users/mxrin/OneDrive/Documents/KTH_2/DD2424/Projet/DD2424-MusicGen/adl-piano-midi\\adl-piano-midi\\Classical\\Classical\\Bela Bartok\\Andante.mid\n",
      "Couldn't load : C:/Users/mxrin/OneDrive/Documents/KTH_2/DD2424/Projet/DD2424-MusicGen/adl-piano-midi\\adl-piano-midi\\Classical\\Classical\\Bela Bartok\\Romanian Folk Dance.mid\n",
      "Couldn't load : C:/Users/mxrin/OneDrive/Documents/KTH_2/DD2424/Projet/DD2424-MusicGen/adl-piano-midi\\adl-piano-midi\\Classical\\Classical\\Claude Debussy\\Clair De Lune.mid\n",
      "Couldn't load : C:/Users/mxrin/OneDrive/Documents/KTH_2/DD2424/Projet/DD2424-MusicGen/adl-piano-midi\\adl-piano-midi\\Classical\\Classical\\Franz Schubert\\Impromptu in C-Moll.mid\n",
      "Couldn't load : C:/Users/mxrin/OneDrive/Documents/KTH_2/DD2424/Projet/DD2424-MusicGen/adl-piano-midi\\adl-piano-midi\\Classical\\Classical\\Franz Schubert\\Impromptu in Ges-dur.mid\n",
      "Couldn't load : C:/Users/mxrin/OneDrive/Documents/KTH_2/DD2424/Projet/DD2424-MusicGen/adl-piano-midi\\adl-piano-midi\\Classical\\Classical\\Franz Schubert\\Trois Marches militaires 3.mid\n",
      "Couldn't load : C:/Users/mxrin/OneDrive/Documents/KTH_2/DD2424/Projet/DD2424-MusicGen/adl-piano-midi\\adl-piano-midi\\Classical\\Classical\\Frederic Chopin\\Prelude Op 28 No7.mid\n",
      "Couldn't load : C:/Users/mxrin/OneDrive/Documents/KTH_2/DD2424/Projet/DD2424-MusicGen/adl-piano-midi\\adl-piano-midi\\Classical\\Classical\\Giacomo Puccini\\O Mio Babibino Caro.mid\n",
      "Couldn't load : C:/Users/mxrin/OneDrive/Documents/KTH_2/DD2424/Projet/DD2424-MusicGen/adl-piano-midi\\adl-piano-midi\\Classical\\Classical\\Jean-Baptiste Lully\\Minuet.mid\n",
      "Couldn't load : C:/Users/mxrin/OneDrive/Documents/KTH_2/DD2424/Projet/DD2424-MusicGen/adl-piano-midi\\adl-piano-midi\\Classical\\Classical\\Johann Sebastian Bach\\Aria, BWV 515.mid\n",
      "Couldn't load : C:/Users/mxrin/OneDrive/Documents/KTH_2/DD2424/Projet/DD2424-MusicGen/adl-piano-midi\\adl-piano-midi\\Classical\\Classical\\Johann Sebastian Bach\\Aus meines Herzens Grunde (Chorale 1).mid\n",
      "Couldn't load : C:/Users/mxrin/OneDrive/Documents/KTH_2/DD2424/Projet/DD2424-MusicGen/adl-piano-midi\\adl-piano-midi\\Classical\\Classical\\Johann Sebastian Bach\\English Suite 3 Gavotte.mid\n",
      "Couldn't load : C:/Users/mxrin/OneDrive/Documents/KTH_2/DD2424/Projet/DD2424-MusicGen/adl-piano-midi\\adl-piano-midi\\Classical\\Classical\\Johann Sebastian Bach\\Gib dich zufrieden und sei stille.mid\n",
      "Couldn't load : C:/Users/mxrin/OneDrive/Documents/KTH_2/DD2424/Projet/DD2424-MusicGen/adl-piano-midi\\adl-piano-midi\\Classical\\Classical\\Johann Sebastian Bach\\Invention 1, BWV 772.mid\n",
      "Couldn't load : C:/Users/mxrin/OneDrive/Documents/KTH_2/DD2424/Projet/DD2424-MusicGen/adl-piano-midi\\adl-piano-midi\\Classical\\Classical\\Johann Sebastian Bach\\Invention 5.mid\n",
      "Couldn't load : C:/Users/mxrin/OneDrive/Documents/KTH_2/DD2424/Projet/DD2424-MusicGen/adl-piano-midi\\adl-piano-midi\\Classical\\Classical\\Johann Sebastian Bach\\Invention 6.mid\n",
      "Couldn't load : C:/Users/mxrin/OneDrive/Documents/KTH_2/DD2424/Projet/DD2424-MusicGen/adl-piano-midi\\adl-piano-midi\\Classical\\Classical\\Johann Sebastian Bach\\Invention No 8.mid\n",
      "Couldn't load : C:/Users/mxrin/OneDrive/Documents/KTH_2/DD2424/Projet/DD2424-MusicGen/adl-piano-midi\\adl-piano-midi\\Classical\\Classical\\Johann Sebastian Bach\\Sleepers, Wake.mid\n",
      "Couldn't load : C:/Users/mxrin/OneDrive/Documents/KTH_2/DD2424/Projet/DD2424-MusicGen/adl-piano-midi\\adl-piano-midi\\Classical\\Classical\\Ludwig van Beethoven\\Moonlight Sonata 1st movement.mid\n",
      "Couldn't load : C:/Users/mxrin/OneDrive/Documents/KTH_2/DD2424/Projet/DD2424-MusicGen/adl-piano-midi\\adl-piano-midi\\Classical\\Classical\\Ludwig van Beethoven\\Moonlight Sonata 3rd Movement.mid\n",
      "Couldn't load : C:/Users/mxrin/OneDrive/Documents/KTH_2/DD2424/Projet/DD2424-MusicGen/adl-piano-midi\\adl-piano-midi\\Classical\\Classical\\Ludwig van Beethoven\\Sonata for Piano with Horn, Op 17.mid\n",
      "Couldn't load : C:/Users/mxrin/OneDrive/Documents/KTH_2/DD2424/Projet/DD2424-MusicGen/adl-piano-midi\\adl-piano-midi\\Classical\\Classical\\Pyotr Ilyich Tchaikovsky\\July - Song of the Reaper.mid\n",
      "Couldn't load : C:/Users/mxrin/OneDrive/Documents/KTH_2/DD2424/Projet/DD2424-MusicGen/adl-piano-midi\\adl-piano-midi\\Classical\\Classical\\Pyotr Ilyich Tchaikovsky\\March - Song of the Lark.mid\n",
      "Couldn't load : C:/Users/mxrin/OneDrive/Documents/KTH_2/DD2424/Projet/DD2424-MusicGen/adl-piano-midi\\adl-piano-midi\\Classical\\Classical\\Pyotr Ilyich Tchaikovsky\\Nutcracker Minature Overture.mid\n",
      "Couldn't load : C:/Users/mxrin/OneDrive/Documents/KTH_2/DD2424/Projet/DD2424-MusicGen/adl-piano-midi\\adl-piano-midi\\Classical\\Classical\\Richard Wagner\\Bridal March.mid\n",
      "Couldn't load : C:/Users/mxrin/OneDrive/Documents/KTH_2/DD2424/Projet/DD2424-MusicGen/adl-piano-midi\\adl-piano-midi\\Classical\\Classical\\Richard Wagner\\Ride of the Valkyries.mid\n",
      "Couldn't load : C:/Users/mxrin/OneDrive/Documents/KTH_2/DD2424/Projet/DD2424-MusicGen/adl-piano-midi\\adl-piano-midi\\Classical\\Classical\\Robert Schumann\\Curious Story.mid\n",
      "Couldn't load : C:/Users/mxrin/OneDrive/Documents/KTH_2/DD2424/Projet/DD2424-MusicGen/adl-piano-midi\\adl-piano-midi\\Classical\\Classical\\Wolfgang Amadeus Mozart\\Clarinet Concerto Theme.mid\n",
      "Couldn't load : C:/Users/mxrin/OneDrive/Documents/KTH_2/DD2424/Projet/DD2424-MusicGen/adl-piano-midi\\adl-piano-midi\\Classical\\Classical\\Wolfgang Amadeus Mozart\\Minuet from Don Juan.mid\n",
      "Couldn't load : C:/Users/mxrin/OneDrive/Documents/KTH_2/DD2424/Projet/DD2424-MusicGen/adl-piano-midi\\adl-piano-midi\\Classical\\Classical\\Wolfgang Amadeus Mozart\\Theme from C K467.mid\n",
      "Couldn't load : C:/Users/mxrin/OneDrive/Documents/KTH_2/DD2424/Projet/DD2424-MusicGen/adl-piano-midi\\adl-piano-midi\\Classical\\German Baroque\\Johann Krieger\\Minuet.mid\n",
      "Couldn't load : C:/Users/mxrin/OneDrive/Documents/KTH_2/DD2424/Projet/DD2424-MusicGen/adl-piano-midi\\adl-piano-midi\\Classical\\Late Romantic Era\\Charles-Valentin Alkan\\Prélude.mid\n",
      "Couldn't load : C:/Users/mxrin/OneDrive/Documents/KTH_2/DD2424/Projet/DD2424-MusicGen/adl-piano-midi\\adl-piano-midi\\Classical\\Late Romantic Era\\Charles-Valentin Alkan\\Saltarelle.mid\n",
      "Couldn't load : C:/Users/mxrin/OneDrive/Documents/KTH_2/DD2424/Projet/DD2424-MusicGen/adl-piano-midi\\adl-piano-midi\\Classical\\Neo-Classical\\Ludovico Einaudi\\Divenire.mid\n",
      "Couldn't load : C:/Users/mxrin/OneDrive/Documents/KTH_2/DD2424/Projet/DD2424-MusicGen/adl-piano-midi\\adl-piano-midi\\Classical\\Neo-Classical\\Yiruma\\Rivers Flow in You.mid\n",
      "Couldn't load : C:/Users/mxrin/OneDrive/Documents/KTH_2/DD2424/Projet/DD2424-MusicGen/adl-piano-midi\\adl-piano-midi\\Classical\\Operatic Pop\\Yanni\\Hijo de la Luna.mid\n",
      "Couldn't load : C:/Users/mxrin/OneDrive/Documents/KTH_2/DD2424/Projet/DD2424-MusicGen/adl-piano-midi\\adl-piano-midi\\Classical\\Post-Romantic Era\\Vladimir Rebikov\\The Bear.mid\n",
      "\n",
      "Number of channels   : 12 \n",
      "Number of notes      : 105 \n",
      "Number of velocities : 128 \n",
      "Time range           : 0.0 190.285\n"
     ]
    }
   ],
   "source": [
    "seq_length = 30\n",
    "\n",
    "#dataset = pp.load_dataset(\"../adl-piano-midi\")\n",
    "dataset = pp.load_dataset(\"C:/Users/mxrin/OneDrive/Documents/KTH_2/DD2424/Projet/DD2424-MusicGen/adl-piano-midi\")\n",
    "ClassicSongs = pp.files_to_songs(dataset[\"Classical\"])\n",
    "\n",
    "channel_to_ind, ind_to_channel, note_to_ind, ind_to_note, velocity_to_ind, ind_to_velocity = pp.dicts_from_songs(ClassicSongs,velocities=True)\n",
    "time_range = pp.ranges_from_songs(ClassicSongs)\n",
    "\n",
    "n_Channels, n_Notes, n_Velocities = len(channel_to_ind), len(note_to_ind), len(velocity_to_ind)\n",
    "\n",
    "print(\"\\nNumber of channels   :\",n_Channels,\"\\nNumber of notes      :\",n_Notes,\"\\nNumber of velocities :\",n_Velocities,\"\\nTime range           :\",time_range[0],time_range[1])"
   ]
  },
  {
   "cell_type": "code",
   "execution_count": 3,
   "metadata": {},
   "outputs": [],
   "source": [
    "LSTM_model = ut.create_model(\"LSTM\",250,n_Channels,n_Notes,n_Velocities,time_range)\n",
    "LSTM_model.load_weights(\"LSTM_model.h5\")"
   ]
  },
  {
   "cell_type": "code",
   "execution_count": 7,
   "metadata": {},
   "outputs": [],
   "source": [
    "seq_length = 30"
   ]
  },
  {
   "cell_type": "code",
   "execution_count": 8,
   "metadata": {},
   "outputs": [],
   "source": [
    "X_Channels, X_Notes, X_Velocities, X_Times, y_Channels, y_Notes, y_Velocities, y_Times, Val_X_Channels, Val_X_Notes, Val_X_Velocities, Val_X_Times, Val_y_Channels, Val_y_Notes, Val_y_Velocities, Val_y_Times, Test_X_Channels, Test_X_Notes, Test_X_Velocities, Test_X_Times, Test_y_Channels, Test_y_Notes, Test_y_Velocities, Test_y_Times = ut.prep_data(seq_length, ClassicSongs,n_Channels,n_Notes,channel_to_ind,note_to_ind)"
   ]
  },
  {
   "cell_type": "code",
   "execution_count": 10,
   "metadata": {},
   "outputs": [
    {
     "ename": "ValueError",
     "evalue": "in user code:\n\n    File \"C:\\Users\\mxrin\\AppData\\Roaming\\Python\\Python311\\site-packages\\keras\\engine\\training.py\", line 2169, in predict_function  *\n        return step_function(self, iterator)\n    File \"C:\\Users\\mxrin\\AppData\\Roaming\\Python\\Python311\\site-packages\\keras\\engine\\training.py\", line 2155, in step_function  **\n        outputs = model.distribute_strategy.run(run_step, args=(data,))\n    File \"C:\\Users\\mxrin\\AppData\\Roaming\\Python\\Python311\\site-packages\\keras\\engine\\training.py\", line 2143, in run_step  **\n        outputs = model.predict_step(data)\n    File \"C:\\Users\\mxrin\\AppData\\Roaming\\Python\\Python311\\site-packages\\keras\\engine\\training.py\", line 2111, in predict_step\n        return self(x, training=False)\n    File \"C:\\Users\\mxrin\\AppData\\Roaming\\Python\\Python311\\site-packages\\keras\\utils\\traceback_utils.py\", line 70, in error_handler\n        raise e.with_traceback(filtered_tb) from None\n    File \"C:\\Users\\mxrin\\AppData\\Roaming\\Python\\Python311\\site-packages\\keras\\engine\\input_spec.py\", line 298, in assert_input_compatibility\n        raise ValueError(\n\n    ValueError: Exception encountered when calling layer 'LSTM_model' (type Functional).\n    \n    Input 0 of layer \"lstm\" is incompatible with the layer: expected shape=(None, None, 246), found shape=(None, 30, 119)\n    \n    Call arguments received by layer 'LSTM_model' (type Functional):\n      • inputs=('tf.Tensor(shape=(None, 30, 12), dtype=float32)', 'tf.Tensor(shape=(None, 30, 105), dtype=float32)', 'tf.Tensor(shape=(None, 30, 1), dtype=float32)', 'tf.Tensor(shape=(None, 30, 1), dtype=float32)')\n      • training=False\n      • mask=None\n",
     "output_type": "error",
     "traceback": [
      "\u001b[1;31m---------------------------------------------------------------------------\u001b[0m",
      "\u001b[1;31mValueError\u001b[0m                                Traceback (most recent call last)",
      "Cell \u001b[1;32mIn[10], line 1\u001b[0m\n\u001b[1;32m----> 1\u001b[0m gen \u001b[38;5;241m=\u001b[39m \u001b[43mut\u001b[49m\u001b[38;5;241;43m.\u001b[39;49m\u001b[43mgenerate\u001b[49m\u001b[43m(\u001b[49m\u001b[43mLSTM_model\u001b[49m\u001b[43m,\u001b[49m\u001b[43m[\u001b[49m\u001b[43mX_Channels\u001b[49m\u001b[43m[\u001b[49m\u001b[38;5;241;43m2\u001b[39;49m\u001b[43m:\u001b[49m\u001b[38;5;241;43m3\u001b[39;49m\u001b[43m,\u001b[49m\u001b[43m:\u001b[49m\u001b[43m,\u001b[49m\u001b[43m:\u001b[49m\u001b[43m]\u001b[49m\u001b[43m,\u001b[49m\u001b[43m \u001b[49m\u001b[43mX_Notes\u001b[49m\u001b[43m[\u001b[49m\u001b[38;5;241;43m2\u001b[39;49m\u001b[43m:\u001b[49m\u001b[38;5;241;43m3\u001b[39;49m\u001b[43m,\u001b[49m\u001b[43m:\u001b[49m\u001b[43m,\u001b[49m\u001b[43m:\u001b[49m\u001b[43m]\u001b[49m\u001b[43m,\u001b[49m\u001b[43m \u001b[49m\u001b[43mX_Velocities\u001b[49m\u001b[43m[\u001b[49m\u001b[38;5;241;43m2\u001b[39;49m\u001b[43m:\u001b[49m\u001b[38;5;241;43m3\u001b[39;49m\u001b[43m,\u001b[49m\u001b[43m:\u001b[49m\u001b[43m,\u001b[49m\u001b[43m:\u001b[49m\u001b[43m]\u001b[49m\u001b[43m,\u001b[49m\u001b[43m \u001b[49m\u001b[43mX_Times\u001b[49m\u001b[43m[\u001b[49m\u001b[38;5;241;43m2\u001b[39;49m\u001b[43m:\u001b[49m\u001b[38;5;241;43m3\u001b[39;49m\u001b[43m,\u001b[49m\u001b[43m:\u001b[49m\u001b[43m,\u001b[49m\u001b[43m:\u001b[49m\u001b[43m]\u001b[49m\u001b[43m]\u001b[49m\u001b[43m,\u001b[49m\u001b[38;5;241;43m30\u001b[39;49m\u001b[43m,\u001b[49m\u001b[43mind_to_channel\u001b[49m\u001b[43m,\u001b[49m\u001b[43mind_to_note\u001b[49m\u001b[43m,\u001b[49m\u001b[43mmode\u001b[49m\u001b[38;5;241;43m=\u001b[39;49m\u001b[38;5;124;43m\"\u001b[39;49m\u001b[38;5;124;43mSoftMax\u001b[39;49m\u001b[38;5;124;43m\"\u001b[39;49m\u001b[43m,\u001b[49m\u001b[43mT\u001b[49m\u001b[38;5;241;43m=\u001b[39;49m\u001b[38;5;241;43m0.8\u001b[39;49m\u001b[43m)\u001b[49m\n\u001b[0;32m      2\u001b[0m gen\n",
      "File \u001b[1;32mc:\\Users\\mxrin\\OneDrive\\Documents\\KTH_2\\DD2424\\Projet\\DD2424-MusicGen\\utils.py:82\u001b[0m, in \u001b[0;36mgenerate\u001b[1;34m(model, input_vec, output_length, ind_to_channel, ind_to_note, mode, T, one_hot, reset)\u001b[0m\n\u001b[0;32m     80\u001b[0m model\u001b[38;5;241m.\u001b[39mstateful \u001b[38;5;241m=\u001b[39m \u001b[38;5;28;01mTrue\u001b[39;00m\n\u001b[0;32m     81\u001b[0m \u001b[38;5;28;01mif\u001b[39;00m reset : model\u001b[38;5;241m.\u001b[39mreset_states()\n\u001b[1;32m---> 82\u001b[0m temp_vec \u001b[38;5;241m=\u001b[39m \u001b[43mmodel\u001b[49m\u001b[38;5;241;43m.\u001b[39;49m\u001b[43mpredict\u001b[49m\u001b[43m(\u001b[49m\u001b[43minput_vec\u001b[49m\u001b[43m)\u001b[49m\n\u001b[0;32m     83\u001b[0m \u001b[38;5;28;01mfor\u001b[39;00m i \u001b[38;5;129;01min\u001b[39;00m \u001b[38;5;28mrange\u001b[39m(\u001b[38;5;241m4\u001b[39m):\n\u001b[0;32m     84\u001b[0m     temp_vec[i] \u001b[38;5;241m=\u001b[39m temp_vec[i][:,\u001b[38;5;241m-\u001b[39m\u001b[38;5;241m1\u001b[39m:,:]\n",
      "File \u001b[1;32m~\\AppData\\Roaming\\Python\\Python311\\site-packages\\keras\\utils\\traceback_utils.py:70\u001b[0m, in \u001b[0;36mfilter_traceback.<locals>.error_handler\u001b[1;34m(*args, **kwargs)\u001b[0m\n\u001b[0;32m     67\u001b[0m     filtered_tb \u001b[38;5;241m=\u001b[39m _process_traceback_frames(e\u001b[38;5;241m.\u001b[39m__traceback__)\n\u001b[0;32m     68\u001b[0m     \u001b[38;5;66;03m# To get the full stack trace, call:\u001b[39;00m\n\u001b[0;32m     69\u001b[0m     \u001b[38;5;66;03m# `tf.debugging.disable_traceback_filtering()`\u001b[39;00m\n\u001b[1;32m---> 70\u001b[0m     \u001b[38;5;28;01mraise\u001b[39;00m e\u001b[38;5;241m.\u001b[39mwith_traceback(filtered_tb) \u001b[38;5;28;01mfrom\u001b[39;00m \u001b[38;5;28;01mNone\u001b[39;00m\n\u001b[0;32m     71\u001b[0m \u001b[38;5;28;01mfinally\u001b[39;00m:\n\u001b[0;32m     72\u001b[0m     \u001b[38;5;28;01mdel\u001b[39;00m filtered_tb\n",
      "File \u001b[1;32m~\\AppData\\Local\\Temp\\__autograph_generated_file11_9rdfj.py:15\u001b[0m, in \u001b[0;36mouter_factory.<locals>.inner_factory.<locals>.tf__predict_function\u001b[1;34m(iterator)\u001b[0m\n\u001b[0;32m     13\u001b[0m \u001b[38;5;28;01mtry\u001b[39;00m:\n\u001b[0;32m     14\u001b[0m     do_return \u001b[38;5;241m=\u001b[39m \u001b[38;5;28;01mTrue\u001b[39;00m\n\u001b[1;32m---> 15\u001b[0m     retval_ \u001b[38;5;241m=\u001b[39m ag__\u001b[38;5;241m.\u001b[39mconverted_call(ag__\u001b[38;5;241m.\u001b[39mld(step_function), (ag__\u001b[38;5;241m.\u001b[39mld(\u001b[38;5;28mself\u001b[39m), ag__\u001b[38;5;241m.\u001b[39mld(iterator)), \u001b[38;5;28;01mNone\u001b[39;00m, fscope)\n\u001b[0;32m     16\u001b[0m \u001b[38;5;28;01mexcept\u001b[39;00m:\n\u001b[0;32m     17\u001b[0m     do_return \u001b[38;5;241m=\u001b[39m \u001b[38;5;28;01mFalse\u001b[39;00m\n",
      "\u001b[1;31mValueError\u001b[0m: in user code:\n\n    File \"C:\\Users\\mxrin\\AppData\\Roaming\\Python\\Python311\\site-packages\\keras\\engine\\training.py\", line 2169, in predict_function  *\n        return step_function(self, iterator)\n    File \"C:\\Users\\mxrin\\AppData\\Roaming\\Python\\Python311\\site-packages\\keras\\engine\\training.py\", line 2155, in step_function  **\n        outputs = model.distribute_strategy.run(run_step, args=(data,))\n    File \"C:\\Users\\mxrin\\AppData\\Roaming\\Python\\Python311\\site-packages\\keras\\engine\\training.py\", line 2143, in run_step  **\n        outputs = model.predict_step(data)\n    File \"C:\\Users\\mxrin\\AppData\\Roaming\\Python\\Python311\\site-packages\\keras\\engine\\training.py\", line 2111, in predict_step\n        return self(x, training=False)\n    File \"C:\\Users\\mxrin\\AppData\\Roaming\\Python\\Python311\\site-packages\\keras\\utils\\traceback_utils.py\", line 70, in error_handler\n        raise e.with_traceback(filtered_tb) from None\n    File \"C:\\Users\\mxrin\\AppData\\Roaming\\Python\\Python311\\site-packages\\keras\\engine\\input_spec.py\", line 298, in assert_input_compatibility\n        raise ValueError(\n\n    ValueError: Exception encountered when calling layer 'LSTM_model' (type Functional).\n    \n    Input 0 of layer \"lstm\" is incompatible with the layer: expected shape=(None, None, 246), found shape=(None, 30, 119)\n    \n    Call arguments received by layer 'LSTM_model' (type Functional):\n      • inputs=('tf.Tensor(shape=(None, 30, 12), dtype=float32)', 'tf.Tensor(shape=(None, 30, 105), dtype=float32)', 'tf.Tensor(shape=(None, 30, 1), dtype=float32)', 'tf.Tensor(shape=(None, 30, 1), dtype=float32)')\n      • training=False\n      • mask=None\n"
     ]
    }
   ],
   "source": [
    "gen = ut.generate(LSTM_model,[X_Channels[2:3,:,:], X_Notes[2:3,:,:], X_Velocities[2:3,:,:], X_Times[2:3,:,:]],30,ind_to_channel,ind_to_note,mode=\"SoftMax\",T=0.8)\n",
    "gen"
   ]
  },
  {
   "cell_type": "code",
   "execution_count": 34,
   "metadata": {},
   "outputs": [
    {
     "name": "stdout",
     "output_type": "stream",
     "text": [
      "[0, 0, 0, 0, 0, 0, 0, 0, 0, 0, 0, 0, 0, 0, 0, 0, 0, 0, 0, 0, 0, 0, 0, 0, 0, 0, 0, 0, 1, 0]\n",
      "[64, 69, 69, 69, 69, 81, 69, 64, 60, 62, 62, 65, 67, 62, 62, 62, 62, 62, 62, 69, 69, 63, 69, 69, 64, 61, 64, 62, 62, 66]\n",
      "[49, 26, 16, 11, 8, 7, 5, 7, 9, 10, 8, 8, 10, 10, 8, 8, 8, 8, 8, 8, 8, 8, 10, 8, 7, 9, 11, 10, 8, 7]\n",
      "[0.073918596, 0.47434297, 0.8796422, 0.9951967, 1.0318245, 1.0809896, 1.2220612, 1.2423832, 0.92080295, 1.0990905, 1.3137932, 1.3523624, 0.96484005, 0.9040212, 1.2957172, 1.3505639, 1.3558822, 1.3563778, 1.3564228, 1.3564291, 1.1705244, 1.1168983, 1.0696937, 1.0564992, 1.0870595, 0.8534793, 1.1653556, 0.8853866, 1.2934879, 2.4373732]\n"
     ]
    }
   ],
   "source": [
    "channels,notes,velocities,times = ut.create_midi(gen)\n",
    "print(channels)\n",
    "time_ = [int(l*960) for l in times]\n",
    "print(notes)\n",
    "print(velocities)\n",
    "print(times)"
   ]
  },
  {
   "cell_type": "code",
   "execution_count": 30,
   "metadata": {},
   "outputs": [],
   "source": [
    "mid = MidiFile()\n",
    "track = MidiTrack()\n",
    "mid.tracks.append(track)\n",
    "\n",
    "track.append(MetaMessage('key_signature', key='Dm'))\n",
    "#track.append(MetaMessage('set_tempo', tempo=bpm2tempo(960)))\n",
    "track.append(MetaMessage('time_signature', numerator=6, denominator=8))\n",
    "\n",
    "for i in range(len(channels)):\n",
    "    track.append(Message('note_on', channel=channels[i], note=notes[i], velocity=velocities[i], time=time_[i]))\n",
    "track.append(MetaMessage('end_of_track'))\n",
    "mid.save('new_song.mid')"
   ]
  },
  {
   "cell_type": "code",
   "execution_count": 31,
   "metadata": {},
   "outputs": [],
   "source": [
    "import pygame\n",
    "pygame.init()\n",
    "pygame.mixer.music.load(\"new_song.mid\")\n",
    "pygame.mixer.music.play()"
   ]
  }
 ],
 "metadata": {
  "kernelspec": {
   "display_name": "Python 3",
   "language": "python",
   "name": "python3"
  },
  "language_info": {
   "codemirror_mode": {
    "name": "ipython",
    "version": 3
   },
   "file_extension": ".py",
   "mimetype": "text/x-python",
   "name": "python",
   "nbconvert_exporter": "python",
   "pygments_lexer": "ipython3",
   "version": "3.11.3"
  }
 },
 "nbformat": 4,
 "nbformat_minor": 2
}
