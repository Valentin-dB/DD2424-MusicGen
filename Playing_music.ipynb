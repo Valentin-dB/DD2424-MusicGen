{
 "cells": [
  {
   "cell_type": "markdown",
   "metadata": {},
   "source": [
    "Playing musics from models"
   ]
  },
  {
   "cell_type": "code",
   "execution_count": 1,
   "metadata": {},
   "outputs": [],
   "source": [
    "from keras.models import Model, load_model\n",
    "import numpy as np\n",
    "import utils as ut\n",
    "import PreProcessor as pp\n",
    "from mido import Message, MetaMessage, MidiFile, MidiTrack, bpm2tempo, second2tick"
   ]
  },
  {
   "cell_type": "code",
   "execution_count": 2,
   "metadata": {},
   "outputs": [
    {
     "name": "stdout",
     "output_type": "stream",
     "text": [
      "\n",
      "Number of channels   : 12 \n",
      "Number of notes      : 105 \n",
      "Number of velocities : 128 \n",
      "Time range           : 0.0 190.285\n"
     ]
    }
   ],
   "source": [
    "seq_length = 30\n",
    "\n",
    "#dataset = pp.load_dataset(\"../adl-piano-midi\")\n",
    "dataset = pp.load_dataset(\"C:/Users/mxrin/OneDrive/Documents/KTH_2/DD2424/Projet/DD2424-MusicGen/adl-piano-midi\")\n",
    "ClassicSongs = pp.files_to_songs(dataset[\"Classical\"])\n",
    "\n",
    "channel_to_ind, ind_to_channel, note_to_ind, ind_to_note, velocity_to_ind, ind_to_velocity = pp.dicts_from_songs(ClassicSongs,velocities=True)\n",
    "time_range = pp.ranges_from_songs(ClassicSongs)\n",
    "\n",
    "n_Channels, n_Notes, n_Velocities = len(channel_to_ind), len(note_to_ind), len(velocity_to_ind)\n",
    "\n",
    "print(\"\\nNumber of channels   :\",n_Channels,\"\\nNumber of notes      :\",n_Notes,\"\\nNumber of velocities :\",n_Velocities,\"\\nTime range           :\",time_range[0],time_range[1])"
   ]
  },
  {
   "cell_type": "code",
   "execution_count": 3,
   "metadata": {},
   "outputs": [],
   "source": [
    "LSTM_model = ut.create_model(\"LSTM\",250,n_Channels,n_Notes,n_Velocities,time_range)\n",
    "LSTM_model.load_weights(\"LSTM_model.h5\")"
   ]
  },
  {
   "cell_type": "code",
   "execution_count": 4,
   "metadata": {},
   "outputs": [],
   "source": [
    "seq_length = 30\n",
    "n_times = 2"
   ]
  },
  {
   "cell_type": "code",
   "execution_count": 5,
   "metadata": {},
   "outputs": [],
   "source": [
    "X_Channels, X_Notes, X_Velocities, X_Times, y_Channels, y_Notes, y_Velocities, y_Times, Val_X_Channels, Val_X_Notes, Val_X_Velocities, Val_X_Times, Val_y_Channels, Val_y_Notes, Val_y_Velocities, Val_y_Times, Test_X_Channels, Test_X_Notes, Test_X_Velocities, Test_X_Times, Test_y_Channels, Test_y_Notes, Test_y_Velocities, Test_y_Times = ut.prep_data(seq_length, ClassicSongs,n_Channels,n_Notes,n_Velocities,channel_to_ind,note_to_ind,velocity_to_ind)"
   ]
  },
  {
   "cell_type": "code",
   "execution_count": 6,
   "metadata": {},
   "outputs": [
    {
     "name": "stdout",
     "output_type": "stream",
     "text": [
      "1/1 [==============================] - 1s 1s/step\n",
      "1/1 [==============================] - 1s 719ms/step\n",
      "1/1 [==============================] - 0s 31ms/step\n",
      "1/1 [==============================] - 0s 16ms/step\n",
      "1/1 [==============================] - 0s 25ms/step\n",
      "1/1 [==============================] - 0s 31ms/step\n",
      "1/1 [==============================] - 0s 31ms/step\n",
      "1/1 [==============================] - 0s 31ms/step\n",
      "1/1 [==============================] - 0s 31ms/step\n",
      "1/1 [==============================] - 0s 31ms/step\n",
      "1/1 [==============================] - 0s 16ms/step\n",
      "1/1 [==============================] - 0s 35ms/step\n",
      "1/1 [==============================] - 0s 16ms/step\n",
      "1/1 [==============================] - 0s 31ms/step\n",
      "1/1 [==============================] - 0s 31ms/step\n",
      "1/1 [==============================] - 0s 16ms/step\n",
      "1/1 [==============================] - 0s 16ms/step\n",
      "1/1 [==============================] - 0s 34ms/step\n",
      "1/1 [==============================] - 0s 40ms/step\n",
      "1/1 [==============================] - 0s 31ms/step\n",
      "1/1 [==============================] - 0s 31ms/step\n",
      "1/1 [==============================] - 0s 23ms/step\n",
      "1/1 [==============================] - 0s 31ms/step\n",
      "1/1 [==============================] - 0s 31ms/step\n",
      "1/1 [==============================] - 0s 31ms/step\n",
      "1/1 [==============================] - 0s 30ms/step\n",
      "1/1 [==============================] - 0s 24ms/step\n",
      "1/1 [==============================] - 0s 32ms/step\n",
      "1/1 [==============================] - 0s 32ms/step\n",
      "1/1 [==============================] - 0s 31ms/step\n"
     ]
    },
    {
     "data": {
      "text/plain": [
       "[[0, 45, 0, 0.11623852],\n",
       " [0, 64, 0, 2.9192522],\n",
       " [0, 67, 0, 2.2710068],\n",
       " [0, 70, 1, 1.9492811],\n",
       " [0, 76, 1, 1.9983574],\n",
       " [0, 75, 1, 1.5607165],\n",
       " [0, 76, 1, 0.8395762],\n",
       " [0, 50, 1, 1.44875],\n",
       " [0, 64, 1, 0.7806779],\n",
       " [0, 70, 1, 1.1210564],\n",
       " [0, 68, 1, 1.9203656],\n",
       " [0, 70, 1, 1.1909192],\n",
       " [0, 67, 1, 1.919628],\n",
       " [0, 70, 1, 1.0955892],\n",
       " [0, 72, 1, 1.9212233],\n",
       " [0, 75, 1, 1.1700073],\n",
       " [0, 76, 1, 0.86381245],\n",
       " [0, 65, 1, 1.4460328],\n",
       " [0, 63, 1, 0.81066954],\n",
       " [0, 66, 1, 0.84031224],\n",
       " [0, 68, 1, 1.2515783],\n",
       " [0, 56, 1, 1.2740638],\n",
       " [0, 60, 1, 0.79321545],\n",
       " [0, 60, 1, 1.1212988],\n",
       " [0, 63, 1, 1.0473826],\n",
       " [0, 68, 1, 0.7815831],\n",
       " [0, 70, 1, 1.4437771],\n",
       " [0, 73, 1, 1.9327856],\n",
       " [0, 76, 1, 1.4802798],\n",
       " [0, 77, 1, 1.4673667]]"
      ]
     },
     "execution_count": 6,
     "metadata": {},
     "output_type": "execute_result"
    }
   ],
   "source": [
    "gen = ut.generate(LSTM_model,[X_Channels[2:3,:,:], X_Notes[2:3,:,:], X_Velocities[2:3,:,:], X_Times[2:3,:,:]],30,ind_to_channel,ind_to_note,mode=\"SoftMax\",T=0.8)\n",
    "gen"
   ]
  },
  {
   "cell_type": "code",
   "execution_count": 7,
   "metadata": {},
   "outputs": [
    {
     "name": "stdout",
     "output_type": "stream",
     "text": [
      "[0, 0, 0, 0, 0, 0, 0, 0, 0, 0, 0, 0, 0, 0, 0, 0, 0, 0, 0, 0, 0, 0, 0, 0, 0, 0, 0, 0, 0, 0]\n",
      "[45, 64, 67, 70, 76, 75, 76, 50, 64, 70, 68, 70, 67, 70, 72, 75, 76, 65, 63, 66, 68, 56, 60, 60, 63, 68, 70, 73, 76, 77]\n",
      "[0, 0, 0, 1, 1, 1, 1, 1, 1, 1, 1, 1, 1, 1, 1, 1, 1, 1, 1, 1, 1, 1, 1, 1, 1, 1, 1, 1, 1, 1]\n",
      "[0.11623852, 2.9192522, 2.2710068, 1.9492811, 1.9983574, 1.5607165, 0.8395762, 1.44875, 0.7806779, 1.1210564, 1.9203656, 1.1909192, 1.919628, 1.0955892, 1.9212233, 1.1700073, 0.86381245, 1.4460328, 0.81066954, 0.84031224, 1.2515783, 1.2740638, 0.79321545, 1.1212988, 1.0473826, 0.7815831, 1.4437771, 1.9327856, 1.4802798, 1.4673667]\n"
     ]
    }
   ],
   "source": [
    "channels,notes,velocities,times = ut.create_midi(gen)\n",
    "print(channels)\n",
    "time_ = [int(l*960) for l in times]\n",
    "print(notes)\n",
    "print(velocities)\n",
    "print(times)"
   ]
  },
  {
   "cell_type": "code",
   "execution_count": 8,
   "metadata": {},
   "outputs": [],
   "source": [
    "mid = MidiFile()\n",
    "track = MidiTrack()\n",
    "mid.tracks.append(track)\n",
    "\n",
    "track.append(MetaMessage('key_signature', key='Dm'))\n",
    "#track.append(MetaMessage('set_tempo', tempo=bpm2tempo(960)))\n",
    "track.append(MetaMessage('time_signature', numerator=6, denominator=8))\n",
    "\n",
    "for i in range(len(channels)):\n",
    "    track.append(Message('note_on', channel=channels[i], note=notes[i], velocity=velocities[i], time=time_[i]))\n",
    "track.append(MetaMessage('end_of_track'))\n",
    "mid.save('new_song.mid')"
   ]
  },
  {
   "cell_type": "code",
   "execution_count": 10,
   "metadata": {},
   "outputs": [],
   "source": [
    "import pygame\n",
    "pygame.init()\n",
    "pygame.mixer.music.load(\"new_song.mid\")\n",
    "pygame.mixer.music.play()"
   ]
  }
 ],
 "metadata": {
  "kernelspec": {
   "display_name": "Python 3",
   "language": "python",
   "name": "python3"
  },
  "language_info": {
   "codemirror_mode": {
    "name": "ipython",
    "version": 3
   },
   "file_extension": ".py",
   "mimetype": "text/x-python",
   "name": "python",
   "nbconvert_exporter": "python",
   "pygments_lexer": "ipython3",
   "version": "3.11.3"
  }
 },
 "nbformat": 4,
 "nbformat_minor": 2
}
